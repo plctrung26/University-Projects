{
  "nbformat": 4,
  "nbformat_minor": 0,
  "metadata": {
    "colab": {
      "provenance": [],
      "toc_visible": true
    },
    "kernelspec": {
      "name": "python3",
      "display_name": "Python 3"
    },
    "language_info": {
      "name": "python"
    },
    "widgets": {
      "application/vnd.jupyter.widget-state+json": {
        "eed016308bd14c3cb6a63aaf0fedfbf4": {
          "model_module": "@jupyter-widgets/controls",
          "model_name": "HBoxModel",
          "model_module_version": "1.5.0",
          "state": {
            "_dom_classes": [],
            "_model_module": "@jupyter-widgets/controls",
            "_model_module_version": "1.5.0",
            "_model_name": "HBoxModel",
            "_view_count": null,
            "_view_module": "@jupyter-widgets/controls",
            "_view_module_version": "1.5.0",
            "_view_name": "HBoxView",
            "box_style": "",
            "children": [
              "IPY_MODEL_7a5e6c326a5941feb3159642c7aa5d83",
              "IPY_MODEL_8c2b8afa6bd24e45911befd9a7d134ae",
              "IPY_MODEL_ac38e576b9fa469bb601bd3b6a75bc46"
            ],
            "layout": "IPY_MODEL_c45e61d581b843e6b3fb16c4100002cd"
          }
        },
        "7a5e6c326a5941feb3159642c7aa5d83": {
          "model_module": "@jupyter-widgets/controls",
          "model_name": "HTMLModel",
          "model_module_version": "1.5.0",
          "state": {
            "_dom_classes": [],
            "_model_module": "@jupyter-widgets/controls",
            "_model_module_version": "1.5.0",
            "_model_name": "HTMLModel",
            "_view_count": null,
            "_view_module": "@jupyter-widgets/controls",
            "_view_module_version": "1.5.0",
            "_view_name": "HTMLView",
            "description": "",
            "description_tooltip": null,
            "layout": "IPY_MODEL_7275408363064a59bddc04384a987447",
            "placeholder": "​",
            "style": "IPY_MODEL_a1db950d3c0e490da4fd67fdd02bc6b2",
            "value": "Downloading (…)lve/main/config.json: 100%"
          }
        },
        "8c2b8afa6bd24e45911befd9a7d134ae": {
          "model_module": "@jupyter-widgets/controls",
          "model_name": "FloatProgressModel",
          "model_module_version": "1.5.0",
          "state": {
            "_dom_classes": [],
            "_model_module": "@jupyter-widgets/controls",
            "_model_module_version": "1.5.0",
            "_model_name": "FloatProgressModel",
            "_view_count": null,
            "_view_module": "@jupyter-widgets/controls",
            "_view_module_version": "1.5.0",
            "_view_name": "ProgressView",
            "bar_style": "success",
            "description": "",
            "description_tooltip": null,
            "layout": "IPY_MODEL_9889eb0d760d4f18add68294d0a5212f",
            "max": 929,
            "min": 0,
            "orientation": "horizontal",
            "style": "IPY_MODEL_e0ef4764a0824d9280f7e3b85fcc64cd",
            "value": 929
          }
        },
        "ac38e576b9fa469bb601bd3b6a75bc46": {
          "model_module": "@jupyter-widgets/controls",
          "model_name": "HTMLModel",
          "model_module_version": "1.5.0",
          "state": {
            "_dom_classes": [],
            "_model_module": "@jupyter-widgets/controls",
            "_model_module_version": "1.5.0",
            "_model_name": "HTMLModel",
            "_view_count": null,
            "_view_module": "@jupyter-widgets/controls",
            "_view_module_version": "1.5.0",
            "_view_name": "HTMLView",
            "description": "",
            "description_tooltip": null,
            "layout": "IPY_MODEL_21034a2e26974e6386bc792886ccd253",
            "placeholder": "​",
            "style": "IPY_MODEL_09cd710d85164951803b0d4e023d4ea4",
            "value": " 929/929 [00:00&lt;00:00, 34.8kB/s]"
          }
        },
        "c45e61d581b843e6b3fb16c4100002cd": {
          "model_module": "@jupyter-widgets/base",
          "model_name": "LayoutModel",
          "model_module_version": "1.2.0",
          "state": {
            "_model_module": "@jupyter-widgets/base",
            "_model_module_version": "1.2.0",
            "_model_name": "LayoutModel",
            "_view_count": null,
            "_view_module": "@jupyter-widgets/base",
            "_view_module_version": "1.2.0",
            "_view_name": "LayoutView",
            "align_content": null,
            "align_items": null,
            "align_self": null,
            "border": null,
            "bottom": null,
            "display": null,
            "flex": null,
            "flex_flow": null,
            "grid_area": null,
            "grid_auto_columns": null,
            "grid_auto_flow": null,
            "grid_auto_rows": null,
            "grid_column": null,
            "grid_gap": null,
            "grid_row": null,
            "grid_template_areas": null,
            "grid_template_columns": null,
            "grid_template_rows": null,
            "height": null,
            "justify_content": null,
            "justify_items": null,
            "left": null,
            "margin": null,
            "max_height": null,
            "max_width": null,
            "min_height": null,
            "min_width": null,
            "object_fit": null,
            "object_position": null,
            "order": null,
            "overflow": null,
            "overflow_x": null,
            "overflow_y": null,
            "padding": null,
            "right": null,
            "top": null,
            "visibility": null,
            "width": null
          }
        },
        "7275408363064a59bddc04384a987447": {
          "model_module": "@jupyter-widgets/base",
          "model_name": "LayoutModel",
          "model_module_version": "1.2.0",
          "state": {
            "_model_module": "@jupyter-widgets/base",
            "_model_module_version": "1.2.0",
            "_model_name": "LayoutModel",
            "_view_count": null,
            "_view_module": "@jupyter-widgets/base",
            "_view_module_version": "1.2.0",
            "_view_name": "LayoutView",
            "align_content": null,
            "align_items": null,
            "align_self": null,
            "border": null,
            "bottom": null,
            "display": null,
            "flex": null,
            "flex_flow": null,
            "grid_area": null,
            "grid_auto_columns": null,
            "grid_auto_flow": null,
            "grid_auto_rows": null,
            "grid_column": null,
            "grid_gap": null,
            "grid_row": null,
            "grid_template_areas": null,
            "grid_template_columns": null,
            "grid_template_rows": null,
            "height": null,
            "justify_content": null,
            "justify_items": null,
            "left": null,
            "margin": null,
            "max_height": null,
            "max_width": null,
            "min_height": null,
            "min_width": null,
            "object_fit": null,
            "object_position": null,
            "order": null,
            "overflow": null,
            "overflow_x": null,
            "overflow_y": null,
            "padding": null,
            "right": null,
            "top": null,
            "visibility": null,
            "width": null
          }
        },
        "a1db950d3c0e490da4fd67fdd02bc6b2": {
          "model_module": "@jupyter-widgets/controls",
          "model_name": "DescriptionStyleModel",
          "model_module_version": "1.5.0",
          "state": {
            "_model_module": "@jupyter-widgets/controls",
            "_model_module_version": "1.5.0",
            "_model_name": "DescriptionStyleModel",
            "_view_count": null,
            "_view_module": "@jupyter-widgets/base",
            "_view_module_version": "1.2.0",
            "_view_name": "StyleView",
            "description_width": ""
          }
        },
        "9889eb0d760d4f18add68294d0a5212f": {
          "model_module": "@jupyter-widgets/base",
          "model_name": "LayoutModel",
          "model_module_version": "1.2.0",
          "state": {
            "_model_module": "@jupyter-widgets/base",
            "_model_module_version": "1.2.0",
            "_model_name": "LayoutModel",
            "_view_count": null,
            "_view_module": "@jupyter-widgets/base",
            "_view_module_version": "1.2.0",
            "_view_name": "LayoutView",
            "align_content": null,
            "align_items": null,
            "align_self": null,
            "border": null,
            "bottom": null,
            "display": null,
            "flex": null,
            "flex_flow": null,
            "grid_area": null,
            "grid_auto_columns": null,
            "grid_auto_flow": null,
            "grid_auto_rows": null,
            "grid_column": null,
            "grid_gap": null,
            "grid_row": null,
            "grid_template_areas": null,
            "grid_template_columns": null,
            "grid_template_rows": null,
            "height": null,
            "justify_content": null,
            "justify_items": null,
            "left": null,
            "margin": null,
            "max_height": null,
            "max_width": null,
            "min_height": null,
            "min_width": null,
            "object_fit": null,
            "object_position": null,
            "order": null,
            "overflow": null,
            "overflow_x": null,
            "overflow_y": null,
            "padding": null,
            "right": null,
            "top": null,
            "visibility": null,
            "width": null
          }
        },
        "e0ef4764a0824d9280f7e3b85fcc64cd": {
          "model_module": "@jupyter-widgets/controls",
          "model_name": "ProgressStyleModel",
          "model_module_version": "1.5.0",
          "state": {
            "_model_module": "@jupyter-widgets/controls",
            "_model_module_version": "1.5.0",
            "_model_name": "ProgressStyleModel",
            "_view_count": null,
            "_view_module": "@jupyter-widgets/base",
            "_view_module_version": "1.2.0",
            "_view_name": "StyleView",
            "bar_color": null,
            "description_width": ""
          }
        },
        "21034a2e26974e6386bc792886ccd253": {
          "model_module": "@jupyter-widgets/base",
          "model_name": "LayoutModel",
          "model_module_version": "1.2.0",
          "state": {
            "_model_module": "@jupyter-widgets/base",
            "_model_module_version": "1.2.0",
            "_model_name": "LayoutModel",
            "_view_count": null,
            "_view_module": "@jupyter-widgets/base",
            "_view_module_version": "1.2.0",
            "_view_name": "LayoutView",
            "align_content": null,
            "align_items": null,
            "align_self": null,
            "border": null,
            "bottom": null,
            "display": null,
            "flex": null,
            "flex_flow": null,
            "grid_area": null,
            "grid_auto_columns": null,
            "grid_auto_flow": null,
            "grid_auto_rows": null,
            "grid_column": null,
            "grid_gap": null,
            "grid_row": null,
            "grid_template_areas": null,
            "grid_template_columns": null,
            "grid_template_rows": null,
            "height": null,
            "justify_content": null,
            "justify_items": null,
            "left": null,
            "margin": null,
            "max_height": null,
            "max_width": null,
            "min_height": null,
            "min_width": null,
            "object_fit": null,
            "object_position": null,
            "order": null,
            "overflow": null,
            "overflow_x": null,
            "overflow_y": null,
            "padding": null,
            "right": null,
            "top": null,
            "visibility": null,
            "width": null
          }
        },
        "09cd710d85164951803b0d4e023d4ea4": {
          "model_module": "@jupyter-widgets/controls",
          "model_name": "DescriptionStyleModel",
          "model_module_version": "1.5.0",
          "state": {
            "_model_module": "@jupyter-widgets/controls",
            "_model_module_version": "1.5.0",
            "_model_name": "DescriptionStyleModel",
            "_view_count": null,
            "_view_module": "@jupyter-widgets/base",
            "_view_module_version": "1.2.0",
            "_view_name": "StyleView",
            "description_width": ""
          }
        },
        "d069a3e6735f4987b50f57cb74d6d36d": {
          "model_module": "@jupyter-widgets/controls",
          "model_name": "HBoxModel",
          "model_module_version": "1.5.0",
          "state": {
            "_dom_classes": [],
            "_model_module": "@jupyter-widgets/controls",
            "_model_module_version": "1.5.0",
            "_model_name": "HBoxModel",
            "_view_count": null,
            "_view_module": "@jupyter-widgets/controls",
            "_view_module_version": "1.5.0",
            "_view_name": "HBoxView",
            "box_style": "",
            "children": [
              "IPY_MODEL_8521077341b84602bffee30bb053e6e1",
              "IPY_MODEL_851c7b1bb8194be089ecbbac1776436a",
              "IPY_MODEL_abb871b7ecb24cbb958d322b2df94547"
            ],
            "layout": "IPY_MODEL_c047e8ae4178492f9a118a51a09fc651"
          }
        },
        "8521077341b84602bffee30bb053e6e1": {
          "model_module": "@jupyter-widgets/controls",
          "model_name": "HTMLModel",
          "model_module_version": "1.5.0",
          "state": {
            "_dom_classes": [],
            "_model_module": "@jupyter-widgets/controls",
            "_model_module_version": "1.5.0",
            "_model_name": "HTMLModel",
            "_view_count": null,
            "_view_module": "@jupyter-widgets/controls",
            "_view_module_version": "1.5.0",
            "_view_name": "HTMLView",
            "description": "",
            "description_tooltip": null,
            "layout": "IPY_MODEL_3fad1f1992ff41aa80f4f02fa0b81401",
            "placeholder": "​",
            "style": "IPY_MODEL_396cfdddf3d9466c93383d3dfdff52fd",
            "value": "Downloading pytorch_model.bin: 100%"
          }
        },
        "851c7b1bb8194be089ecbbac1776436a": {
          "model_module": "@jupyter-widgets/controls",
          "model_name": "FloatProgressModel",
          "model_module_version": "1.5.0",
          "state": {
            "_dom_classes": [],
            "_model_module": "@jupyter-widgets/controls",
            "_model_module_version": "1.5.0",
            "_model_name": "FloatProgressModel",
            "_view_count": null,
            "_view_module": "@jupyter-widgets/controls",
            "_view_module_version": "1.5.0",
            "_view_name": "ProgressView",
            "bar_style": "success",
            "description": "",
            "description_tooltip": null,
            "layout": "IPY_MODEL_b5e13c00f6644e52b71e9586b965e04f",
            "max": 501045531,
            "min": 0,
            "orientation": "horizontal",
            "style": "IPY_MODEL_cf1a1364c5ac4ca8924ea4b0311459c3",
            "value": 501045531
          }
        },
        "abb871b7ecb24cbb958d322b2df94547": {
          "model_module": "@jupyter-widgets/controls",
          "model_name": "HTMLModel",
          "model_module_version": "1.5.0",
          "state": {
            "_dom_classes": [],
            "_model_module": "@jupyter-widgets/controls",
            "_model_module_version": "1.5.0",
            "_model_name": "HTMLModel",
            "_view_count": null,
            "_view_module": "@jupyter-widgets/controls",
            "_view_module_version": "1.5.0",
            "_view_name": "HTMLView",
            "description": "",
            "description_tooltip": null,
            "layout": "IPY_MODEL_dab1b80eb5aa435d97d060f232fdc9d8",
            "placeholder": "​",
            "style": "IPY_MODEL_1782328179ff4986bf6e9f77ebba65ef",
            "value": " 501M/501M [00:06&lt;00:00, 84.7MB/s]"
          }
        },
        "c047e8ae4178492f9a118a51a09fc651": {
          "model_module": "@jupyter-widgets/base",
          "model_name": "LayoutModel",
          "model_module_version": "1.2.0",
          "state": {
            "_model_module": "@jupyter-widgets/base",
            "_model_module_version": "1.2.0",
            "_model_name": "LayoutModel",
            "_view_count": null,
            "_view_module": "@jupyter-widgets/base",
            "_view_module_version": "1.2.0",
            "_view_name": "LayoutView",
            "align_content": null,
            "align_items": null,
            "align_self": null,
            "border": null,
            "bottom": null,
            "display": null,
            "flex": null,
            "flex_flow": null,
            "grid_area": null,
            "grid_auto_columns": null,
            "grid_auto_flow": null,
            "grid_auto_rows": null,
            "grid_column": null,
            "grid_gap": null,
            "grid_row": null,
            "grid_template_areas": null,
            "grid_template_columns": null,
            "grid_template_rows": null,
            "height": null,
            "justify_content": null,
            "justify_items": null,
            "left": null,
            "margin": null,
            "max_height": null,
            "max_width": null,
            "min_height": null,
            "min_width": null,
            "object_fit": null,
            "object_position": null,
            "order": null,
            "overflow": null,
            "overflow_x": null,
            "overflow_y": null,
            "padding": null,
            "right": null,
            "top": null,
            "visibility": null,
            "width": null
          }
        },
        "3fad1f1992ff41aa80f4f02fa0b81401": {
          "model_module": "@jupyter-widgets/base",
          "model_name": "LayoutModel",
          "model_module_version": "1.2.0",
          "state": {
            "_model_module": "@jupyter-widgets/base",
            "_model_module_version": "1.2.0",
            "_model_name": "LayoutModel",
            "_view_count": null,
            "_view_module": "@jupyter-widgets/base",
            "_view_module_version": "1.2.0",
            "_view_name": "LayoutView",
            "align_content": null,
            "align_items": null,
            "align_self": null,
            "border": null,
            "bottom": null,
            "display": null,
            "flex": null,
            "flex_flow": null,
            "grid_area": null,
            "grid_auto_columns": null,
            "grid_auto_flow": null,
            "grid_auto_rows": null,
            "grid_column": null,
            "grid_gap": null,
            "grid_row": null,
            "grid_template_areas": null,
            "grid_template_columns": null,
            "grid_template_rows": null,
            "height": null,
            "justify_content": null,
            "justify_items": null,
            "left": null,
            "margin": null,
            "max_height": null,
            "max_width": null,
            "min_height": null,
            "min_width": null,
            "object_fit": null,
            "object_position": null,
            "order": null,
            "overflow": null,
            "overflow_x": null,
            "overflow_y": null,
            "padding": null,
            "right": null,
            "top": null,
            "visibility": null,
            "width": null
          }
        },
        "396cfdddf3d9466c93383d3dfdff52fd": {
          "model_module": "@jupyter-widgets/controls",
          "model_name": "DescriptionStyleModel",
          "model_module_version": "1.5.0",
          "state": {
            "_model_module": "@jupyter-widgets/controls",
            "_model_module_version": "1.5.0",
            "_model_name": "DescriptionStyleModel",
            "_view_count": null,
            "_view_module": "@jupyter-widgets/base",
            "_view_module_version": "1.2.0",
            "_view_name": "StyleView",
            "description_width": ""
          }
        },
        "b5e13c00f6644e52b71e9586b965e04f": {
          "model_module": "@jupyter-widgets/base",
          "model_name": "LayoutModel",
          "model_module_version": "1.2.0",
          "state": {
            "_model_module": "@jupyter-widgets/base",
            "_model_module_version": "1.2.0",
            "_model_name": "LayoutModel",
            "_view_count": null,
            "_view_module": "@jupyter-widgets/base",
            "_view_module_version": "1.2.0",
            "_view_name": "LayoutView",
            "align_content": null,
            "align_items": null,
            "align_self": null,
            "border": null,
            "bottom": null,
            "display": null,
            "flex": null,
            "flex_flow": null,
            "grid_area": null,
            "grid_auto_columns": null,
            "grid_auto_flow": null,
            "grid_auto_rows": null,
            "grid_column": null,
            "grid_gap": null,
            "grid_row": null,
            "grid_template_areas": null,
            "grid_template_columns": null,
            "grid_template_rows": null,
            "height": null,
            "justify_content": null,
            "justify_items": null,
            "left": null,
            "margin": null,
            "max_height": null,
            "max_width": null,
            "min_height": null,
            "min_width": null,
            "object_fit": null,
            "object_position": null,
            "order": null,
            "overflow": null,
            "overflow_x": null,
            "overflow_y": null,
            "padding": null,
            "right": null,
            "top": null,
            "visibility": null,
            "width": null
          }
        },
        "cf1a1364c5ac4ca8924ea4b0311459c3": {
          "model_module": "@jupyter-widgets/controls",
          "model_name": "ProgressStyleModel",
          "model_module_version": "1.5.0",
          "state": {
            "_model_module": "@jupyter-widgets/controls",
            "_model_module_version": "1.5.0",
            "_model_name": "ProgressStyleModel",
            "_view_count": null,
            "_view_module": "@jupyter-widgets/base",
            "_view_module_version": "1.2.0",
            "_view_name": "StyleView",
            "bar_color": null,
            "description_width": ""
          }
        },
        "dab1b80eb5aa435d97d060f232fdc9d8": {
          "model_module": "@jupyter-widgets/base",
          "model_name": "LayoutModel",
          "model_module_version": "1.2.0",
          "state": {
            "_model_module": "@jupyter-widgets/base",
            "_model_module_version": "1.2.0",
            "_model_name": "LayoutModel",
            "_view_count": null,
            "_view_module": "@jupyter-widgets/base",
            "_view_module_version": "1.2.0",
            "_view_name": "LayoutView",
            "align_content": null,
            "align_items": null,
            "align_self": null,
            "border": null,
            "bottom": null,
            "display": null,
            "flex": null,
            "flex_flow": null,
            "grid_area": null,
            "grid_auto_columns": null,
            "grid_auto_flow": null,
            "grid_auto_rows": null,
            "grid_column": null,
            "grid_gap": null,
            "grid_row": null,
            "grid_template_areas": null,
            "grid_template_columns": null,
            "grid_template_rows": null,
            "height": null,
            "justify_content": null,
            "justify_items": null,
            "left": null,
            "margin": null,
            "max_height": null,
            "max_width": null,
            "min_height": null,
            "min_width": null,
            "object_fit": null,
            "object_position": null,
            "order": null,
            "overflow": null,
            "overflow_x": null,
            "overflow_y": null,
            "padding": null,
            "right": null,
            "top": null,
            "visibility": null,
            "width": null
          }
        },
        "1782328179ff4986bf6e9f77ebba65ef": {
          "model_module": "@jupyter-widgets/controls",
          "model_name": "DescriptionStyleModel",
          "model_module_version": "1.5.0",
          "state": {
            "_model_module": "@jupyter-widgets/controls",
            "_model_module_version": "1.5.0",
            "_model_name": "DescriptionStyleModel",
            "_view_count": null,
            "_view_module": "@jupyter-widgets/base",
            "_view_module_version": "1.2.0",
            "_view_name": "StyleView",
            "description_width": ""
          }
        },
        "7fac7e1843cc42a29035d5def2fcf9fb": {
          "model_module": "@jupyter-widgets/controls",
          "model_name": "HBoxModel",
          "model_module_version": "1.5.0",
          "state": {
            "_dom_classes": [],
            "_model_module": "@jupyter-widgets/controls",
            "_model_module_version": "1.5.0",
            "_model_name": "HBoxModel",
            "_view_count": null,
            "_view_module": "@jupyter-widgets/controls",
            "_view_module_version": "1.5.0",
            "_view_name": "HBoxView",
            "box_style": "",
            "children": [
              "IPY_MODEL_da9658a02a3d4839a958c1a7b1689fc8",
              "IPY_MODEL_b9067efec1ed4e3897d26aaf1f7b5256",
              "IPY_MODEL_a589cd08652d46a39f1ef22a87ead0ef"
            ],
            "layout": "IPY_MODEL_58ffd3941ff242d3ac4ddb920668f36b"
          }
        },
        "da9658a02a3d4839a958c1a7b1689fc8": {
          "model_module": "@jupyter-widgets/controls",
          "model_name": "HTMLModel",
          "model_module_version": "1.5.0",
          "state": {
            "_dom_classes": [],
            "_model_module": "@jupyter-widgets/controls",
            "_model_module_version": "1.5.0",
            "_model_name": "HTMLModel",
            "_view_count": null,
            "_view_module": "@jupyter-widgets/controls",
            "_view_module_version": "1.5.0",
            "_view_name": "HTMLView",
            "description": "",
            "description_tooltip": null,
            "layout": "IPY_MODEL_40a376523c7040989de13d8ff3a5a81c",
            "placeholder": "​",
            "style": "IPY_MODEL_c240f9fb0c14498fa7407384d06903f8",
            "value": "Downloading (…)olve/main/vocab.json: 100%"
          }
        },
        "b9067efec1ed4e3897d26aaf1f7b5256": {
          "model_module": "@jupyter-widgets/controls",
          "model_name": "FloatProgressModel",
          "model_module_version": "1.5.0",
          "state": {
            "_dom_classes": [],
            "_model_module": "@jupyter-widgets/controls",
            "_model_module_version": "1.5.0",
            "_model_name": "FloatProgressModel",
            "_view_count": null,
            "_view_module": "@jupyter-widgets/controls",
            "_view_module_version": "1.5.0",
            "_view_name": "ProgressView",
            "bar_style": "success",
            "description": "",
            "description_tooltip": null,
            "layout": "IPY_MODEL_28251ba9b3034d69a0c270ba27d59e2b",
            "max": 898822,
            "min": 0,
            "orientation": "horizontal",
            "style": "IPY_MODEL_c0f22ea8eb0f45f784de478a17cf8e29",
            "value": 898822
          }
        },
        "a589cd08652d46a39f1ef22a87ead0ef": {
          "model_module": "@jupyter-widgets/controls",
          "model_name": "HTMLModel",
          "model_module_version": "1.5.0",
          "state": {
            "_dom_classes": [],
            "_model_module": "@jupyter-widgets/controls",
            "_model_module_version": "1.5.0",
            "_model_name": "HTMLModel",
            "_view_count": null,
            "_view_module": "@jupyter-widgets/controls",
            "_view_module_version": "1.5.0",
            "_view_name": "HTMLView",
            "description": "",
            "description_tooltip": null,
            "layout": "IPY_MODEL_6aa17064f08845fb92637ea9329132a3",
            "placeholder": "​",
            "style": "IPY_MODEL_0dfe5524c55748feb7054b630ab2ae92",
            "value": " 899k/899k [00:00&lt;00:00, 12.2MB/s]"
          }
        },
        "58ffd3941ff242d3ac4ddb920668f36b": {
          "model_module": "@jupyter-widgets/base",
          "model_name": "LayoutModel",
          "model_module_version": "1.2.0",
          "state": {
            "_model_module": "@jupyter-widgets/base",
            "_model_module_version": "1.2.0",
            "_model_name": "LayoutModel",
            "_view_count": null,
            "_view_module": "@jupyter-widgets/base",
            "_view_module_version": "1.2.0",
            "_view_name": "LayoutView",
            "align_content": null,
            "align_items": null,
            "align_self": null,
            "border": null,
            "bottom": null,
            "display": null,
            "flex": null,
            "flex_flow": null,
            "grid_area": null,
            "grid_auto_columns": null,
            "grid_auto_flow": null,
            "grid_auto_rows": null,
            "grid_column": null,
            "grid_gap": null,
            "grid_row": null,
            "grid_template_areas": null,
            "grid_template_columns": null,
            "grid_template_rows": null,
            "height": null,
            "justify_content": null,
            "justify_items": null,
            "left": null,
            "margin": null,
            "max_height": null,
            "max_width": null,
            "min_height": null,
            "min_width": null,
            "object_fit": null,
            "object_position": null,
            "order": null,
            "overflow": null,
            "overflow_x": null,
            "overflow_y": null,
            "padding": null,
            "right": null,
            "top": null,
            "visibility": null,
            "width": null
          }
        },
        "40a376523c7040989de13d8ff3a5a81c": {
          "model_module": "@jupyter-widgets/base",
          "model_name": "LayoutModel",
          "model_module_version": "1.2.0",
          "state": {
            "_model_module": "@jupyter-widgets/base",
            "_model_module_version": "1.2.0",
            "_model_name": "LayoutModel",
            "_view_count": null,
            "_view_module": "@jupyter-widgets/base",
            "_view_module_version": "1.2.0",
            "_view_name": "LayoutView",
            "align_content": null,
            "align_items": null,
            "align_self": null,
            "border": null,
            "bottom": null,
            "display": null,
            "flex": null,
            "flex_flow": null,
            "grid_area": null,
            "grid_auto_columns": null,
            "grid_auto_flow": null,
            "grid_auto_rows": null,
            "grid_column": null,
            "grid_gap": null,
            "grid_row": null,
            "grid_template_areas": null,
            "grid_template_columns": null,
            "grid_template_rows": null,
            "height": null,
            "justify_content": null,
            "justify_items": null,
            "left": null,
            "margin": null,
            "max_height": null,
            "max_width": null,
            "min_height": null,
            "min_width": null,
            "object_fit": null,
            "object_position": null,
            "order": null,
            "overflow": null,
            "overflow_x": null,
            "overflow_y": null,
            "padding": null,
            "right": null,
            "top": null,
            "visibility": null,
            "width": null
          }
        },
        "c240f9fb0c14498fa7407384d06903f8": {
          "model_module": "@jupyter-widgets/controls",
          "model_name": "DescriptionStyleModel",
          "model_module_version": "1.5.0",
          "state": {
            "_model_module": "@jupyter-widgets/controls",
            "_model_module_version": "1.5.0",
            "_model_name": "DescriptionStyleModel",
            "_view_count": null,
            "_view_module": "@jupyter-widgets/base",
            "_view_module_version": "1.2.0",
            "_view_name": "StyleView",
            "description_width": ""
          }
        },
        "28251ba9b3034d69a0c270ba27d59e2b": {
          "model_module": "@jupyter-widgets/base",
          "model_name": "LayoutModel",
          "model_module_version": "1.2.0",
          "state": {
            "_model_module": "@jupyter-widgets/base",
            "_model_module_version": "1.2.0",
            "_model_name": "LayoutModel",
            "_view_count": null,
            "_view_module": "@jupyter-widgets/base",
            "_view_module_version": "1.2.0",
            "_view_name": "LayoutView",
            "align_content": null,
            "align_items": null,
            "align_self": null,
            "border": null,
            "bottom": null,
            "display": null,
            "flex": null,
            "flex_flow": null,
            "grid_area": null,
            "grid_auto_columns": null,
            "grid_auto_flow": null,
            "grid_auto_rows": null,
            "grid_column": null,
            "grid_gap": null,
            "grid_row": null,
            "grid_template_areas": null,
            "grid_template_columns": null,
            "grid_template_rows": null,
            "height": null,
            "justify_content": null,
            "justify_items": null,
            "left": null,
            "margin": null,
            "max_height": null,
            "max_width": null,
            "min_height": null,
            "min_width": null,
            "object_fit": null,
            "object_position": null,
            "order": null,
            "overflow": null,
            "overflow_x": null,
            "overflow_y": null,
            "padding": null,
            "right": null,
            "top": null,
            "visibility": null,
            "width": null
          }
        },
        "c0f22ea8eb0f45f784de478a17cf8e29": {
          "model_module": "@jupyter-widgets/controls",
          "model_name": "ProgressStyleModel",
          "model_module_version": "1.5.0",
          "state": {
            "_model_module": "@jupyter-widgets/controls",
            "_model_module_version": "1.5.0",
            "_model_name": "ProgressStyleModel",
            "_view_count": null,
            "_view_module": "@jupyter-widgets/base",
            "_view_module_version": "1.2.0",
            "_view_name": "StyleView",
            "bar_color": null,
            "description_width": ""
          }
        },
        "6aa17064f08845fb92637ea9329132a3": {
          "model_module": "@jupyter-widgets/base",
          "model_name": "LayoutModel",
          "model_module_version": "1.2.0",
          "state": {
            "_model_module": "@jupyter-widgets/base",
            "_model_module_version": "1.2.0",
            "_model_name": "LayoutModel",
            "_view_count": null,
            "_view_module": "@jupyter-widgets/base",
            "_view_module_version": "1.2.0",
            "_view_name": "LayoutView",
            "align_content": null,
            "align_items": null,
            "align_self": null,
            "border": null,
            "bottom": null,
            "display": null,
            "flex": null,
            "flex_flow": null,
            "grid_area": null,
            "grid_auto_columns": null,
            "grid_auto_flow": null,
            "grid_auto_rows": null,
            "grid_column": null,
            "grid_gap": null,
            "grid_row": null,
            "grid_template_areas": null,
            "grid_template_columns": null,
            "grid_template_rows": null,
            "height": null,
            "justify_content": null,
            "justify_items": null,
            "left": null,
            "margin": null,
            "max_height": null,
            "max_width": null,
            "min_height": null,
            "min_width": null,
            "object_fit": null,
            "object_position": null,
            "order": null,
            "overflow": null,
            "overflow_x": null,
            "overflow_y": null,
            "padding": null,
            "right": null,
            "top": null,
            "visibility": null,
            "width": null
          }
        },
        "0dfe5524c55748feb7054b630ab2ae92": {
          "model_module": "@jupyter-widgets/controls",
          "model_name": "DescriptionStyleModel",
          "model_module_version": "1.5.0",
          "state": {
            "_model_module": "@jupyter-widgets/controls",
            "_model_module_version": "1.5.0",
            "_model_name": "DescriptionStyleModel",
            "_view_count": null,
            "_view_module": "@jupyter-widgets/base",
            "_view_module_version": "1.2.0",
            "_view_name": "StyleView",
            "description_width": ""
          }
        },
        "31a85e4a1e334003ac3d1556ed537691": {
          "model_module": "@jupyter-widgets/controls",
          "model_name": "HBoxModel",
          "model_module_version": "1.5.0",
          "state": {
            "_dom_classes": [],
            "_model_module": "@jupyter-widgets/controls",
            "_model_module_version": "1.5.0",
            "_model_name": "HBoxModel",
            "_view_count": null,
            "_view_module": "@jupyter-widgets/controls",
            "_view_module_version": "1.5.0",
            "_view_name": "HBoxView",
            "box_style": "",
            "children": [
              "IPY_MODEL_c3bbba9d01bd47679adb6c255839b474",
              "IPY_MODEL_a5fa1f5e8c1942fe8f232c0a095456bd",
              "IPY_MODEL_168d9103304c46d787001fb5eb93162e"
            ],
            "layout": "IPY_MODEL_8d9543f9bfce42ac86f2a646d6224ab1"
          }
        },
        "c3bbba9d01bd47679adb6c255839b474": {
          "model_module": "@jupyter-widgets/controls",
          "model_name": "HTMLModel",
          "model_module_version": "1.5.0",
          "state": {
            "_dom_classes": [],
            "_model_module": "@jupyter-widgets/controls",
            "_model_module_version": "1.5.0",
            "_model_name": "HTMLModel",
            "_view_count": null,
            "_view_module": "@jupyter-widgets/controls",
            "_view_module_version": "1.5.0",
            "_view_name": "HTMLView",
            "description": "",
            "description_tooltip": null,
            "layout": "IPY_MODEL_1a0b5d2e1a0c473ebfb2c2b06299eee0",
            "placeholder": "​",
            "style": "IPY_MODEL_edd3357281f140eaa6f5c0db3ece6963",
            "value": "Downloading (…)olve/main/merges.txt: 100%"
          }
        },
        "a5fa1f5e8c1942fe8f232c0a095456bd": {
          "model_module": "@jupyter-widgets/controls",
          "model_name": "FloatProgressModel",
          "model_module_version": "1.5.0",
          "state": {
            "_dom_classes": [],
            "_model_module": "@jupyter-widgets/controls",
            "_model_module_version": "1.5.0",
            "_model_name": "FloatProgressModel",
            "_view_count": null,
            "_view_module": "@jupyter-widgets/controls",
            "_view_module_version": "1.5.0",
            "_view_name": "ProgressView",
            "bar_style": "success",
            "description": "",
            "description_tooltip": null,
            "layout": "IPY_MODEL_7a514c1fa69b482f8dc16d008682c993",
            "max": 456318,
            "min": 0,
            "orientation": "horizontal",
            "style": "IPY_MODEL_482722e0c6454f44b7d1f7a61cc27de6",
            "value": 456318
          }
        },
        "168d9103304c46d787001fb5eb93162e": {
          "model_module": "@jupyter-widgets/controls",
          "model_name": "HTMLModel",
          "model_module_version": "1.5.0",
          "state": {
            "_dom_classes": [],
            "_model_module": "@jupyter-widgets/controls",
            "_model_module_version": "1.5.0",
            "_model_name": "HTMLModel",
            "_view_count": null,
            "_view_module": "@jupyter-widgets/controls",
            "_view_module_version": "1.5.0",
            "_view_name": "HTMLView",
            "description": "",
            "description_tooltip": null,
            "layout": "IPY_MODEL_daac7f4b0c544d65953aa647cde75acb",
            "placeholder": "​",
            "style": "IPY_MODEL_061b566c68184be6952cb7a54b233098",
            "value": " 456k/456k [00:00&lt;00:00, 11.8MB/s]"
          }
        },
        "8d9543f9bfce42ac86f2a646d6224ab1": {
          "model_module": "@jupyter-widgets/base",
          "model_name": "LayoutModel",
          "model_module_version": "1.2.0",
          "state": {
            "_model_module": "@jupyter-widgets/base",
            "_model_module_version": "1.2.0",
            "_model_name": "LayoutModel",
            "_view_count": null,
            "_view_module": "@jupyter-widgets/base",
            "_view_module_version": "1.2.0",
            "_view_name": "LayoutView",
            "align_content": null,
            "align_items": null,
            "align_self": null,
            "border": null,
            "bottom": null,
            "display": null,
            "flex": null,
            "flex_flow": null,
            "grid_area": null,
            "grid_auto_columns": null,
            "grid_auto_flow": null,
            "grid_auto_rows": null,
            "grid_column": null,
            "grid_gap": null,
            "grid_row": null,
            "grid_template_areas": null,
            "grid_template_columns": null,
            "grid_template_rows": null,
            "height": null,
            "justify_content": null,
            "justify_items": null,
            "left": null,
            "margin": null,
            "max_height": null,
            "max_width": null,
            "min_height": null,
            "min_width": null,
            "object_fit": null,
            "object_position": null,
            "order": null,
            "overflow": null,
            "overflow_x": null,
            "overflow_y": null,
            "padding": null,
            "right": null,
            "top": null,
            "visibility": null,
            "width": null
          }
        },
        "1a0b5d2e1a0c473ebfb2c2b06299eee0": {
          "model_module": "@jupyter-widgets/base",
          "model_name": "LayoutModel",
          "model_module_version": "1.2.0",
          "state": {
            "_model_module": "@jupyter-widgets/base",
            "_model_module_version": "1.2.0",
            "_model_name": "LayoutModel",
            "_view_count": null,
            "_view_module": "@jupyter-widgets/base",
            "_view_module_version": "1.2.0",
            "_view_name": "LayoutView",
            "align_content": null,
            "align_items": null,
            "align_self": null,
            "border": null,
            "bottom": null,
            "display": null,
            "flex": null,
            "flex_flow": null,
            "grid_area": null,
            "grid_auto_columns": null,
            "grid_auto_flow": null,
            "grid_auto_rows": null,
            "grid_column": null,
            "grid_gap": null,
            "grid_row": null,
            "grid_template_areas": null,
            "grid_template_columns": null,
            "grid_template_rows": null,
            "height": null,
            "justify_content": null,
            "justify_items": null,
            "left": null,
            "margin": null,
            "max_height": null,
            "max_width": null,
            "min_height": null,
            "min_width": null,
            "object_fit": null,
            "object_position": null,
            "order": null,
            "overflow": null,
            "overflow_x": null,
            "overflow_y": null,
            "padding": null,
            "right": null,
            "top": null,
            "visibility": null,
            "width": null
          }
        },
        "edd3357281f140eaa6f5c0db3ece6963": {
          "model_module": "@jupyter-widgets/controls",
          "model_name": "DescriptionStyleModel",
          "model_module_version": "1.5.0",
          "state": {
            "_model_module": "@jupyter-widgets/controls",
            "_model_module_version": "1.5.0",
            "_model_name": "DescriptionStyleModel",
            "_view_count": null,
            "_view_module": "@jupyter-widgets/base",
            "_view_module_version": "1.2.0",
            "_view_name": "StyleView",
            "description_width": ""
          }
        },
        "7a514c1fa69b482f8dc16d008682c993": {
          "model_module": "@jupyter-widgets/base",
          "model_name": "LayoutModel",
          "model_module_version": "1.2.0",
          "state": {
            "_model_module": "@jupyter-widgets/base",
            "_model_module_version": "1.2.0",
            "_model_name": "LayoutModel",
            "_view_count": null,
            "_view_module": "@jupyter-widgets/base",
            "_view_module_version": "1.2.0",
            "_view_name": "LayoutView",
            "align_content": null,
            "align_items": null,
            "align_self": null,
            "border": null,
            "bottom": null,
            "display": null,
            "flex": null,
            "flex_flow": null,
            "grid_area": null,
            "grid_auto_columns": null,
            "grid_auto_flow": null,
            "grid_auto_rows": null,
            "grid_column": null,
            "grid_gap": null,
            "grid_row": null,
            "grid_template_areas": null,
            "grid_template_columns": null,
            "grid_template_rows": null,
            "height": null,
            "justify_content": null,
            "justify_items": null,
            "left": null,
            "margin": null,
            "max_height": null,
            "max_width": null,
            "min_height": null,
            "min_width": null,
            "object_fit": null,
            "object_position": null,
            "order": null,
            "overflow": null,
            "overflow_x": null,
            "overflow_y": null,
            "padding": null,
            "right": null,
            "top": null,
            "visibility": null,
            "width": null
          }
        },
        "482722e0c6454f44b7d1f7a61cc27de6": {
          "model_module": "@jupyter-widgets/controls",
          "model_name": "ProgressStyleModel",
          "model_module_version": "1.5.0",
          "state": {
            "_model_module": "@jupyter-widgets/controls",
            "_model_module_version": "1.5.0",
            "_model_name": "ProgressStyleModel",
            "_view_count": null,
            "_view_module": "@jupyter-widgets/base",
            "_view_module_version": "1.2.0",
            "_view_name": "StyleView",
            "bar_color": null,
            "description_width": ""
          }
        },
        "daac7f4b0c544d65953aa647cde75acb": {
          "model_module": "@jupyter-widgets/base",
          "model_name": "LayoutModel",
          "model_module_version": "1.2.0",
          "state": {
            "_model_module": "@jupyter-widgets/base",
            "_model_module_version": "1.2.0",
            "_model_name": "LayoutModel",
            "_view_count": null,
            "_view_module": "@jupyter-widgets/base",
            "_view_module_version": "1.2.0",
            "_view_name": "LayoutView",
            "align_content": null,
            "align_items": null,
            "align_self": null,
            "border": null,
            "bottom": null,
            "display": null,
            "flex": null,
            "flex_flow": null,
            "grid_area": null,
            "grid_auto_columns": null,
            "grid_auto_flow": null,
            "grid_auto_rows": null,
            "grid_column": null,
            "grid_gap": null,
            "grid_row": null,
            "grid_template_areas": null,
            "grid_template_columns": null,
            "grid_template_rows": null,
            "height": null,
            "justify_content": null,
            "justify_items": null,
            "left": null,
            "margin": null,
            "max_height": null,
            "max_width": null,
            "min_height": null,
            "min_width": null,
            "object_fit": null,
            "object_position": null,
            "order": null,
            "overflow": null,
            "overflow_x": null,
            "overflow_y": null,
            "padding": null,
            "right": null,
            "top": null,
            "visibility": null,
            "width": null
          }
        },
        "061b566c68184be6952cb7a54b233098": {
          "model_module": "@jupyter-widgets/controls",
          "model_name": "DescriptionStyleModel",
          "model_module_version": "1.5.0",
          "state": {
            "_model_module": "@jupyter-widgets/controls",
            "_model_module_version": "1.5.0",
            "_model_name": "DescriptionStyleModel",
            "_view_count": null,
            "_view_module": "@jupyter-widgets/base",
            "_view_module_version": "1.2.0",
            "_view_name": "StyleView",
            "description_width": ""
          }
        },
        "0b85910e0436426a9908d428f3fbdfac": {
          "model_module": "@jupyter-widgets/controls",
          "model_name": "HBoxModel",
          "model_module_version": "1.5.0",
          "state": {
            "_dom_classes": [],
            "_model_module": "@jupyter-widgets/controls",
            "_model_module_version": "1.5.0",
            "_model_name": "HBoxModel",
            "_view_count": null,
            "_view_module": "@jupyter-widgets/controls",
            "_view_module_version": "1.5.0",
            "_view_name": "HBoxView",
            "box_style": "",
            "children": [
              "IPY_MODEL_ae2b5256bc78446d8033bdb628f352a8",
              "IPY_MODEL_ec72982c24254dc7aea3afea80daa117",
              "IPY_MODEL_f85c8c8ead0d4060b59227d269ce869b"
            ],
            "layout": "IPY_MODEL_90f429feb711433d89f73b65718f9838"
          }
        },
        "ae2b5256bc78446d8033bdb628f352a8": {
          "model_module": "@jupyter-widgets/controls",
          "model_name": "HTMLModel",
          "model_module_version": "1.5.0",
          "state": {
            "_dom_classes": [],
            "_model_module": "@jupyter-widgets/controls",
            "_model_module_version": "1.5.0",
            "_model_name": "HTMLModel",
            "_view_count": null,
            "_view_module": "@jupyter-widgets/controls",
            "_view_module_version": "1.5.0",
            "_view_name": "HTMLView",
            "description": "",
            "description_tooltip": null,
            "layout": "IPY_MODEL_55e5fa2bd50746e59614bb278e3fb2be",
            "placeholder": "​",
            "style": "IPY_MODEL_15b74b81c3da43218082b365f0f759b1",
            "value": "Downloading (…)cial_tokens_map.json: 100%"
          }
        },
        "ec72982c24254dc7aea3afea80daa117": {
          "model_module": "@jupyter-widgets/controls",
          "model_name": "FloatProgressModel",
          "model_module_version": "1.5.0",
          "state": {
            "_dom_classes": [],
            "_model_module": "@jupyter-widgets/controls",
            "_model_module_version": "1.5.0",
            "_model_name": "FloatProgressModel",
            "_view_count": null,
            "_view_module": "@jupyter-widgets/controls",
            "_view_module_version": "1.5.0",
            "_view_name": "ProgressView",
            "bar_style": "success",
            "description": "",
            "description_tooltip": null,
            "layout": "IPY_MODEL_2e363e2235cb442bbb21c39404563aac",
            "max": 239,
            "min": 0,
            "orientation": "horizontal",
            "style": "IPY_MODEL_a5cda8989b9c46d68125975dfd93a560",
            "value": 239
          }
        },
        "f85c8c8ead0d4060b59227d269ce869b": {
          "model_module": "@jupyter-widgets/controls",
          "model_name": "HTMLModel",
          "model_module_version": "1.5.0",
          "state": {
            "_dom_classes": [],
            "_model_module": "@jupyter-widgets/controls",
            "_model_module_version": "1.5.0",
            "_model_name": "HTMLModel",
            "_view_count": null,
            "_view_module": "@jupyter-widgets/controls",
            "_view_module_version": "1.5.0",
            "_view_name": "HTMLView",
            "description": "",
            "description_tooltip": null,
            "layout": "IPY_MODEL_e2cc8923abc7419d9d0dc1a3bf56c587",
            "placeholder": "​",
            "style": "IPY_MODEL_7fb4f99c1ed1430b9abd4c1921234254",
            "value": " 239/239 [00:00&lt;00:00, 7.55kB/s]"
          }
        },
        "90f429feb711433d89f73b65718f9838": {
          "model_module": "@jupyter-widgets/base",
          "model_name": "LayoutModel",
          "model_module_version": "1.2.0",
          "state": {
            "_model_module": "@jupyter-widgets/base",
            "_model_module_version": "1.2.0",
            "_model_name": "LayoutModel",
            "_view_count": null,
            "_view_module": "@jupyter-widgets/base",
            "_view_module_version": "1.2.0",
            "_view_name": "LayoutView",
            "align_content": null,
            "align_items": null,
            "align_self": null,
            "border": null,
            "bottom": null,
            "display": null,
            "flex": null,
            "flex_flow": null,
            "grid_area": null,
            "grid_auto_columns": null,
            "grid_auto_flow": null,
            "grid_auto_rows": null,
            "grid_column": null,
            "grid_gap": null,
            "grid_row": null,
            "grid_template_areas": null,
            "grid_template_columns": null,
            "grid_template_rows": null,
            "height": null,
            "justify_content": null,
            "justify_items": null,
            "left": null,
            "margin": null,
            "max_height": null,
            "max_width": null,
            "min_height": null,
            "min_width": null,
            "object_fit": null,
            "object_position": null,
            "order": null,
            "overflow": null,
            "overflow_x": null,
            "overflow_y": null,
            "padding": null,
            "right": null,
            "top": null,
            "visibility": null,
            "width": null
          }
        },
        "55e5fa2bd50746e59614bb278e3fb2be": {
          "model_module": "@jupyter-widgets/base",
          "model_name": "LayoutModel",
          "model_module_version": "1.2.0",
          "state": {
            "_model_module": "@jupyter-widgets/base",
            "_model_module_version": "1.2.0",
            "_model_name": "LayoutModel",
            "_view_count": null,
            "_view_module": "@jupyter-widgets/base",
            "_view_module_version": "1.2.0",
            "_view_name": "LayoutView",
            "align_content": null,
            "align_items": null,
            "align_self": null,
            "border": null,
            "bottom": null,
            "display": null,
            "flex": null,
            "flex_flow": null,
            "grid_area": null,
            "grid_auto_columns": null,
            "grid_auto_flow": null,
            "grid_auto_rows": null,
            "grid_column": null,
            "grid_gap": null,
            "grid_row": null,
            "grid_template_areas": null,
            "grid_template_columns": null,
            "grid_template_rows": null,
            "height": null,
            "justify_content": null,
            "justify_items": null,
            "left": null,
            "margin": null,
            "max_height": null,
            "max_width": null,
            "min_height": null,
            "min_width": null,
            "object_fit": null,
            "object_position": null,
            "order": null,
            "overflow": null,
            "overflow_x": null,
            "overflow_y": null,
            "padding": null,
            "right": null,
            "top": null,
            "visibility": null,
            "width": null
          }
        },
        "15b74b81c3da43218082b365f0f759b1": {
          "model_module": "@jupyter-widgets/controls",
          "model_name": "DescriptionStyleModel",
          "model_module_version": "1.5.0",
          "state": {
            "_model_module": "@jupyter-widgets/controls",
            "_model_module_version": "1.5.0",
            "_model_name": "DescriptionStyleModel",
            "_view_count": null,
            "_view_module": "@jupyter-widgets/base",
            "_view_module_version": "1.2.0",
            "_view_name": "StyleView",
            "description_width": ""
          }
        },
        "2e363e2235cb442bbb21c39404563aac": {
          "model_module": "@jupyter-widgets/base",
          "model_name": "LayoutModel",
          "model_module_version": "1.2.0",
          "state": {
            "_model_module": "@jupyter-widgets/base",
            "_model_module_version": "1.2.0",
            "_model_name": "LayoutModel",
            "_view_count": null,
            "_view_module": "@jupyter-widgets/base",
            "_view_module_version": "1.2.0",
            "_view_name": "LayoutView",
            "align_content": null,
            "align_items": null,
            "align_self": null,
            "border": null,
            "bottom": null,
            "display": null,
            "flex": null,
            "flex_flow": null,
            "grid_area": null,
            "grid_auto_columns": null,
            "grid_auto_flow": null,
            "grid_auto_rows": null,
            "grid_column": null,
            "grid_gap": null,
            "grid_row": null,
            "grid_template_areas": null,
            "grid_template_columns": null,
            "grid_template_rows": null,
            "height": null,
            "justify_content": null,
            "justify_items": null,
            "left": null,
            "margin": null,
            "max_height": null,
            "max_width": null,
            "min_height": null,
            "min_width": null,
            "object_fit": null,
            "object_position": null,
            "order": null,
            "overflow": null,
            "overflow_x": null,
            "overflow_y": null,
            "padding": null,
            "right": null,
            "top": null,
            "visibility": null,
            "width": null
          }
        },
        "a5cda8989b9c46d68125975dfd93a560": {
          "model_module": "@jupyter-widgets/controls",
          "model_name": "ProgressStyleModel",
          "model_module_version": "1.5.0",
          "state": {
            "_model_module": "@jupyter-widgets/controls",
            "_model_module_version": "1.5.0",
            "_model_name": "ProgressStyleModel",
            "_view_count": null,
            "_view_module": "@jupyter-widgets/base",
            "_view_module_version": "1.2.0",
            "_view_name": "StyleView",
            "bar_color": null,
            "description_width": ""
          }
        },
        "e2cc8923abc7419d9d0dc1a3bf56c587": {
          "model_module": "@jupyter-widgets/base",
          "model_name": "LayoutModel",
          "model_module_version": "1.2.0",
          "state": {
            "_model_module": "@jupyter-widgets/base",
            "_model_module_version": "1.2.0",
            "_model_name": "LayoutModel",
            "_view_count": null,
            "_view_module": "@jupyter-widgets/base",
            "_view_module_version": "1.2.0",
            "_view_name": "LayoutView",
            "align_content": null,
            "align_items": null,
            "align_self": null,
            "border": null,
            "bottom": null,
            "display": null,
            "flex": null,
            "flex_flow": null,
            "grid_area": null,
            "grid_auto_columns": null,
            "grid_auto_flow": null,
            "grid_auto_rows": null,
            "grid_column": null,
            "grid_gap": null,
            "grid_row": null,
            "grid_template_areas": null,
            "grid_template_columns": null,
            "grid_template_rows": null,
            "height": null,
            "justify_content": null,
            "justify_items": null,
            "left": null,
            "margin": null,
            "max_height": null,
            "max_width": null,
            "min_height": null,
            "min_width": null,
            "object_fit": null,
            "object_position": null,
            "order": null,
            "overflow": null,
            "overflow_x": null,
            "overflow_y": null,
            "padding": null,
            "right": null,
            "top": null,
            "visibility": null,
            "width": null
          }
        },
        "7fb4f99c1ed1430b9abd4c1921234254": {
          "model_module": "@jupyter-widgets/controls",
          "model_name": "DescriptionStyleModel",
          "model_module_version": "1.5.0",
          "state": {
            "_model_module": "@jupyter-widgets/controls",
            "_model_module_version": "1.5.0",
            "_model_name": "DescriptionStyleModel",
            "_view_count": null,
            "_view_module": "@jupyter-widgets/base",
            "_view_module_version": "1.2.0",
            "_view_name": "StyleView",
            "description_width": ""
          }
        }
      }
    }
  },
  "cells": [
    {
      "cell_type": "markdown",
      "source": [
        "# In this file, Our team's works includes:\n",
        "\n",
        "\n",
        "*   Creating a process for labeling the data (not included in this source code but in the report)\n",
        "*   Perform data cleaning on a dataset from Kaggle\n",
        "*   Training a model to classify comments' sentiments\n",
        "*   Visualize the results\n",
        "\n"
      ],
      "metadata": {
        "id": "kAVRf2YpXJjl"
      }
    },
    {
      "cell_type": "markdown",
      "source": [
        "# 1. Read and transform data"
      ],
      "metadata": {
        "id": "PYlNHv8krWyJ"
      }
    },
    {
      "cell_type": "code",
      "execution_count": null,
      "metadata": {
        "id": "bxnKkeELrNEG"
      },
      "outputs": [],
      "source": [
        "import pandas as pd\n",
        "import numpy as np\n",
        "import matplotlib.pyplot as plt\n",
        "import seaborn as sns\n",
        "import re\n",
        "import numpy as np\n",
        "\n",
        "from sklearn.model_selection import train_test_split\n",
        "from sklearn.feature_extraction.text import TfidfVectorizer\n",
        "\n",
        "from sklearn.tree import DecisionTreeClassifier\n",
        "from sklearn.svm import SVC\n",
        "from sklearn.ensemble import GradientBoostingClassifier\n",
        "from xgboost import XGBClassifier\n",
        "\n",
        "from nltk.tokenize import TweetTokenizer\n",
        "from sklearn.model_selection import GridSearchCV\n",
        "from sklearn.pipeline import Pipeline\n",
        "\n",
        "from sklearn.metrics import confusion_matrix\n",
        "from sklearn.metrics import accuracy_score, f1_score"
      ]
    },
    {
      "cell_type": "code",
      "source": [
        "sheet_id = '1iVjq9zLHWVEZm54cLnHEGw-w7NHjZkCLE1xy7tYoshU'\n",
        "\n",
        "data = pd.read_csv(f'https://docs.google.com/spreadsheets/d/{sheet_id}/export?format=csv')\n",
        "data = data.drop(['Unnamed: 6'], axis = 1)\n",
        "data['Reviews'] = data['Reviews'].str.replace('\\n', '')\n",
        "data"
      ],
      "metadata": {
        "colab": {
          "base_uri": "https://localhost:8080/",
          "height": 423
        },
        "id": "nDdOqG08rWMK",
        "outputId": "af3facda-8973-49b3-8a51-996d5b76ce7b"
      },
      "execution_count": null,
      "outputs": [
        {
          "output_type": "execute_result",
          "data": {
            "text/plain": [
              "       Stt                                            Reviews  Label Rates  \\\n",
              "0        0  ✅ Trip Verified | Excellent service both on th...      1     5   \n",
              "1        1  ✅ Trip Verified |  Good lounge at Cape Town. O...      1     9   \n",
              "2        2  ✅ Trip Verified |  A really excellent journey....      1     9   \n",
              "3        3  ✅ Trip Verified |  This flight was one of the ...      0     9   \n",
              "4        4  Not Verified | It seems that there is a race t...      0     2   \n",
              "...    ...                                                ...    ...   ...   \n",
              "3407  3413  Flew British Airways from Sydney to Venice on ...      1     6   \n",
              "3408  3414  Recently for our honeymoon we took advantage o...      1    10   \n",
              "3409  3415  LGW-Antigua on 29 April and Antigua-LGW on 13 ...      0     1   \n",
              "3410  3416  LHR-JTR-LHR. A tale of opposites for BA's new ...      0     4   \n",
              "3411  3417  Gatwick-Venice return. Two contrasting experie...      0     2   \n",
              "\n",
              "                   Date         Country  \n",
              "0     24th January 2023  United Kingdom  \n",
              "1     24th January 2023  United Kingdom  \n",
              "2     23rd January 2023  United Kingdom  \n",
              "3     21st January 2023  United Kingdom  \n",
              "4     19th January 2023   United States  \n",
              "...                 ...             ...  \n",
              "3407      20th May 2014       Australia  \n",
              "3408      19th May 2014  United Kingdom  \n",
              "3409      18th May 2014  United Kingdom  \n",
              "3410      18th May 2014  United Kingdom  \n",
              "3411      18th May 2014  United Kingdom  \n",
              "\n",
              "[3412 rows x 6 columns]"
            ],
            "text/html": [
              "\n",
              "  <div id=\"df-f225db19-6e31-4db5-9e9a-d361a619a687\">\n",
              "    <div class=\"colab-df-container\">\n",
              "      <div>\n",
              "<style scoped>\n",
              "    .dataframe tbody tr th:only-of-type {\n",
              "        vertical-align: middle;\n",
              "    }\n",
              "\n",
              "    .dataframe tbody tr th {\n",
              "        vertical-align: top;\n",
              "    }\n",
              "\n",
              "    .dataframe thead th {\n",
              "        text-align: right;\n",
              "    }\n",
              "</style>\n",
              "<table border=\"1\" class=\"dataframe\">\n",
              "  <thead>\n",
              "    <tr style=\"text-align: right;\">\n",
              "      <th></th>\n",
              "      <th>Stt</th>\n",
              "      <th>Reviews</th>\n",
              "      <th>Label</th>\n",
              "      <th>Rates</th>\n",
              "      <th>Date</th>\n",
              "      <th>Country</th>\n",
              "    </tr>\n",
              "  </thead>\n",
              "  <tbody>\n",
              "    <tr>\n",
              "      <th>0</th>\n",
              "      <td>0</td>\n",
              "      <td>✅ Trip Verified | Excellent service both on th...</td>\n",
              "      <td>1</td>\n",
              "      <td>5</td>\n",
              "      <td>24th January 2023</td>\n",
              "      <td>United Kingdom</td>\n",
              "    </tr>\n",
              "    <tr>\n",
              "      <th>1</th>\n",
              "      <td>1</td>\n",
              "      <td>✅ Trip Verified |  Good lounge at Cape Town. O...</td>\n",
              "      <td>1</td>\n",
              "      <td>9</td>\n",
              "      <td>24th January 2023</td>\n",
              "      <td>United Kingdom</td>\n",
              "    </tr>\n",
              "    <tr>\n",
              "      <th>2</th>\n",
              "      <td>2</td>\n",
              "      <td>✅ Trip Verified |  A really excellent journey....</td>\n",
              "      <td>1</td>\n",
              "      <td>9</td>\n",
              "      <td>23rd January 2023</td>\n",
              "      <td>United Kingdom</td>\n",
              "    </tr>\n",
              "    <tr>\n",
              "      <th>3</th>\n",
              "      <td>3</td>\n",
              "      <td>✅ Trip Verified |  This flight was one of the ...</td>\n",
              "      <td>0</td>\n",
              "      <td>9</td>\n",
              "      <td>21st January 2023</td>\n",
              "      <td>United Kingdom</td>\n",
              "    </tr>\n",
              "    <tr>\n",
              "      <th>4</th>\n",
              "      <td>4</td>\n",
              "      <td>Not Verified | It seems that there is a race t...</td>\n",
              "      <td>0</td>\n",
              "      <td>2</td>\n",
              "      <td>19th January 2023</td>\n",
              "      <td>United States</td>\n",
              "    </tr>\n",
              "    <tr>\n",
              "      <th>...</th>\n",
              "      <td>...</td>\n",
              "      <td>...</td>\n",
              "      <td>...</td>\n",
              "      <td>...</td>\n",
              "      <td>...</td>\n",
              "      <td>...</td>\n",
              "    </tr>\n",
              "    <tr>\n",
              "      <th>3407</th>\n",
              "      <td>3413</td>\n",
              "      <td>Flew British Airways from Sydney to Venice on ...</td>\n",
              "      <td>1</td>\n",
              "      <td>6</td>\n",
              "      <td>20th May 2014</td>\n",
              "      <td>Australia</td>\n",
              "    </tr>\n",
              "    <tr>\n",
              "      <th>3408</th>\n",
              "      <td>3414</td>\n",
              "      <td>Recently for our honeymoon we took advantage o...</td>\n",
              "      <td>1</td>\n",
              "      <td>10</td>\n",
              "      <td>19th May 2014</td>\n",
              "      <td>United Kingdom</td>\n",
              "    </tr>\n",
              "    <tr>\n",
              "      <th>3409</th>\n",
              "      <td>3415</td>\n",
              "      <td>LGW-Antigua on 29 April and Antigua-LGW on 13 ...</td>\n",
              "      <td>0</td>\n",
              "      <td>1</td>\n",
              "      <td>18th May 2014</td>\n",
              "      <td>United Kingdom</td>\n",
              "    </tr>\n",
              "    <tr>\n",
              "      <th>3410</th>\n",
              "      <td>3416</td>\n",
              "      <td>LHR-JTR-LHR. A tale of opposites for BA's new ...</td>\n",
              "      <td>0</td>\n",
              "      <td>4</td>\n",
              "      <td>18th May 2014</td>\n",
              "      <td>United Kingdom</td>\n",
              "    </tr>\n",
              "    <tr>\n",
              "      <th>3411</th>\n",
              "      <td>3417</td>\n",
              "      <td>Gatwick-Venice return. Two contrasting experie...</td>\n",
              "      <td>0</td>\n",
              "      <td>2</td>\n",
              "      <td>18th May 2014</td>\n",
              "      <td>United Kingdom</td>\n",
              "    </tr>\n",
              "  </tbody>\n",
              "</table>\n",
              "<p>3412 rows × 6 columns</p>\n",
              "</div>\n",
              "      <button class=\"colab-df-convert\" onclick=\"convertToInteractive('df-f225db19-6e31-4db5-9e9a-d361a619a687')\"\n",
              "              title=\"Convert this dataframe to an interactive table.\"\n",
              "              style=\"display:none;\">\n",
              "        \n",
              "  <svg xmlns=\"http://www.w3.org/2000/svg\" height=\"24px\"viewBox=\"0 0 24 24\"\n",
              "       width=\"24px\">\n",
              "    <path d=\"M0 0h24v24H0V0z\" fill=\"none\"/>\n",
              "    <path d=\"M18.56 5.44l.94 2.06.94-2.06 2.06-.94-2.06-.94-.94-2.06-.94 2.06-2.06.94zm-11 1L8.5 8.5l.94-2.06 2.06-.94-2.06-.94L8.5 2.5l-.94 2.06-2.06.94zm10 10l.94 2.06.94-2.06 2.06-.94-2.06-.94-.94-2.06-.94 2.06-2.06.94z\"/><path d=\"M17.41 7.96l-1.37-1.37c-.4-.4-.92-.59-1.43-.59-.52 0-1.04.2-1.43.59L10.3 9.45l-7.72 7.72c-.78.78-.78 2.05 0 2.83L4 21.41c.39.39.9.59 1.41.59.51 0 1.02-.2 1.41-.59l7.78-7.78 2.81-2.81c.8-.78.8-2.07 0-2.86zM5.41 20L4 18.59l7.72-7.72 1.47 1.35L5.41 20z\"/>\n",
              "  </svg>\n",
              "      </button>\n",
              "      \n",
              "  <style>\n",
              "    .colab-df-container {\n",
              "      display:flex;\n",
              "      flex-wrap:wrap;\n",
              "      gap: 12px;\n",
              "    }\n",
              "\n",
              "    .colab-df-convert {\n",
              "      background-color: #E8F0FE;\n",
              "      border: none;\n",
              "      border-radius: 50%;\n",
              "      cursor: pointer;\n",
              "      display: none;\n",
              "      fill: #1967D2;\n",
              "      height: 32px;\n",
              "      padding: 0 0 0 0;\n",
              "      width: 32px;\n",
              "    }\n",
              "\n",
              "    .colab-df-convert:hover {\n",
              "      background-color: #E2EBFA;\n",
              "      box-shadow: 0px 1px 2px rgba(60, 64, 67, 0.3), 0px 1px 3px 1px rgba(60, 64, 67, 0.15);\n",
              "      fill: #174EA6;\n",
              "    }\n",
              "\n",
              "    [theme=dark] .colab-df-convert {\n",
              "      background-color: #3B4455;\n",
              "      fill: #D2E3FC;\n",
              "    }\n",
              "\n",
              "    [theme=dark] .colab-df-convert:hover {\n",
              "      background-color: #434B5C;\n",
              "      box-shadow: 0px 1px 3px 1px rgba(0, 0, 0, 0.15);\n",
              "      filter: drop-shadow(0px 1px 2px rgba(0, 0, 0, 0.3));\n",
              "      fill: #FFFFFF;\n",
              "    }\n",
              "  </style>\n",
              "\n",
              "      <script>\n",
              "        const buttonEl =\n",
              "          document.querySelector('#df-f225db19-6e31-4db5-9e9a-d361a619a687 button.colab-df-convert');\n",
              "        buttonEl.style.display =\n",
              "          google.colab.kernel.accessAllowed ? 'block' : 'none';\n",
              "\n",
              "        async function convertToInteractive(key) {\n",
              "          const element = document.querySelector('#df-f225db19-6e31-4db5-9e9a-d361a619a687');\n",
              "          const dataTable =\n",
              "            await google.colab.kernel.invokeFunction('convertToInteractive',\n",
              "                                                     [key], {});\n",
              "          if (!dataTable) return;\n",
              "\n",
              "          const docLinkHtml = 'Like what you see? Visit the ' +\n",
              "            '<a target=\"_blank\" href=https://colab.research.google.com/notebooks/data_table.ipynb>data table notebook</a>'\n",
              "            + ' to learn more about interactive tables.';\n",
              "          element.innerHTML = '';\n",
              "          dataTable['output_type'] = 'display_data';\n",
              "          await google.colab.output.renderOutput(dataTable, element);\n",
              "          const docLink = document.createElement('div');\n",
              "          docLink.innerHTML = docLinkHtml;\n",
              "          element.appendChild(docLink);\n",
              "        }\n",
              "      </script>\n",
              "    </div>\n",
              "  </div>\n",
              "  "
            ]
          },
          "metadata": {},
          "execution_count": 2
        }
      ]
    },
    {
      "cell_type": "code",
      "source": [
        "verified_count = data['Reviews'].str.contains('✅ Trip Verified \\|').sum()\n",
        "not_verified_count = data['Reviews'].str.contains('Not Verified \\|').sum()\n",
        "normal_count = len(data) - verified_count - not_verified_count\n",
        "\n",
        "print(f\"Verified reviews: {verified_count}\")\n",
        "print(f\"Not verified reviews: {not_verified_count}\")\n",
        "print(f\"Normal reviews: {normal_count}\")"
      ],
      "metadata": {
        "colab": {
          "base_uri": "https://localhost:8080/"
        },
        "id": "gQ-M_xFRrvCN",
        "outputId": "75659f36-92e5-4280-da4f-0e6d40bac7d6"
      },
      "execution_count": null,
      "outputs": [
        {
          "output_type": "stream",
          "name": "stdout",
          "text": [
            "Verified reviews: 976\n",
            "Not verified reviews: 174\n",
            "Normal reviews: 2262\n"
          ]
        }
      ]
    },
    {
      "cell_type": "code",
      "source": [
        "# Hàm để tách lấy phần text chính trong comment\n",
        "\n",
        "def dividing(review, comment, verify):\n",
        "    match = re.match(r'^(.*?\\| ?)?(.*)$', review)\n",
        "    if match:\n",
        "        review_label = match.group(1)   # extract the review label, if present\n",
        "        if review_label is not None:\n",
        "            review_label = review_label.strip()   # remove extra spaces from the label\n",
        "        review_text = match.group(2)    # extract the review text\n",
        "        comment.append(review_text)\n",
        "        verify.append(review_label)\n",
        "    else:\n",
        "        print(\"Invalid review:\", review)"
      ],
      "metadata": {
        "id": "nfbaGbX4r2k4"
      },
      "execution_count": null,
      "outputs": []
    },
    {
      "cell_type": "code",
      "source": [
        "comment = []\n",
        "verify = []\n",
        "\n",
        "for input in data['Reviews']:\n",
        "  dividing(input, comment, verify)\n",
        "data['Original_comment'] = comment\n",
        "data['Verify'] = verify\n",
        "data = data.drop('Reviews', axis = 1)\n",
        "\n",
        "length = []\n",
        "for sentence in data['Original_comment']:\n",
        "  length.append(len(sentence))\n",
        "data['original_length'] = length\n",
        "\n",
        "data"
      ],
      "metadata": {
        "colab": {
          "base_uri": "https://localhost:8080/",
          "height": 623
        },
        "id": "GSmabbw4sdeb",
        "outputId": "a57254a8-ebdc-4f0e-83b0-f7b45e399206"
      },
      "execution_count": null,
      "outputs": [
        {
          "output_type": "execute_result",
          "data": {
            "text/plain": [
              "       Stt  Label Rates               Date         Country  \\\n",
              "0        0      1     5  24th January 2023  United Kingdom   \n",
              "1        1      1     9  24th January 2023  United Kingdom   \n",
              "2        2      1     9  23rd January 2023  United Kingdom   \n",
              "3        3      0     9  21st January 2023  United Kingdom   \n",
              "4        4      0     2  19th January 2023   United States   \n",
              "...    ...    ...   ...                ...             ...   \n",
              "3407  3413      1     6      20th May 2014       Australia   \n",
              "3408  3414      1    10      19th May 2014  United Kingdom   \n",
              "3409  3415      0     1      18th May 2014  United Kingdom   \n",
              "3410  3416      0     4      18th May 2014  United Kingdom   \n",
              "3411  3417      0     2      18th May 2014  United Kingdom   \n",
              "\n",
              "                                       Original_comment             Verify  \\\n",
              "0     Excellent service both on the ground and on bo...  ✅ Trip Verified |   \n",
              "1      Good lounge at Cape Town. On time departure. ...  ✅ Trip Verified |   \n",
              "2      A really excellent journey. Lounge not overcr...  ✅ Trip Verified |   \n",
              "3      This flight was one of the worst I have ever ...  ✅ Trip Verified |   \n",
              "4     It seems that there is a race to the bottom am...     Not Verified |   \n",
              "...                                                 ...                ...   \n",
              "3407  Flew British Airways from Sydney to Venice on ...               None   \n",
              "3408  Recently for our honeymoon we took advantage o...               None   \n",
              "3409  LGW-Antigua on 29 April and Antigua-LGW on 13 ...               None   \n",
              "3410  LHR-JTR-LHR. A tale of opposites for BA's new ...               None   \n",
              "3411  Gatwick-Venice return. Two contrasting experie...               None   \n",
              "\n",
              "      original_length  \n",
              "0                 367  \n",
              "1                 152  \n",
              "2                 703  \n",
              "3                1191  \n",
              "4                 575  \n",
              "...               ...  \n",
              "3407              358  \n",
              "3408             2353  \n",
              "3409             2644  \n",
              "3410              615  \n",
              "3411             1001  \n",
              "\n",
              "[3412 rows x 8 columns]"
            ],
            "text/html": [
              "\n",
              "  <div id=\"df-ac2de4a0-6453-4d4e-9251-5a4f79e6656f\">\n",
              "    <div class=\"colab-df-container\">\n",
              "      <div>\n",
              "<style scoped>\n",
              "    .dataframe tbody tr th:only-of-type {\n",
              "        vertical-align: middle;\n",
              "    }\n",
              "\n",
              "    .dataframe tbody tr th {\n",
              "        vertical-align: top;\n",
              "    }\n",
              "\n",
              "    .dataframe thead th {\n",
              "        text-align: right;\n",
              "    }\n",
              "</style>\n",
              "<table border=\"1\" class=\"dataframe\">\n",
              "  <thead>\n",
              "    <tr style=\"text-align: right;\">\n",
              "      <th></th>\n",
              "      <th>Stt</th>\n",
              "      <th>Label</th>\n",
              "      <th>Rates</th>\n",
              "      <th>Date</th>\n",
              "      <th>Country</th>\n",
              "      <th>Original_comment</th>\n",
              "      <th>Verify</th>\n",
              "      <th>original_length</th>\n",
              "    </tr>\n",
              "  </thead>\n",
              "  <tbody>\n",
              "    <tr>\n",
              "      <th>0</th>\n",
              "      <td>0</td>\n",
              "      <td>1</td>\n",
              "      <td>5</td>\n",
              "      <td>24th January 2023</td>\n",
              "      <td>United Kingdom</td>\n",
              "      <td>Excellent service both on the ground and on bo...</td>\n",
              "      <td>✅ Trip Verified |</td>\n",
              "      <td>367</td>\n",
              "    </tr>\n",
              "    <tr>\n",
              "      <th>1</th>\n",
              "      <td>1</td>\n",
              "      <td>1</td>\n",
              "      <td>9</td>\n",
              "      <td>24th January 2023</td>\n",
              "      <td>United Kingdom</td>\n",
              "      <td>Good lounge at Cape Town. On time departure. ...</td>\n",
              "      <td>✅ Trip Verified |</td>\n",
              "      <td>152</td>\n",
              "    </tr>\n",
              "    <tr>\n",
              "      <th>2</th>\n",
              "      <td>2</td>\n",
              "      <td>1</td>\n",
              "      <td>9</td>\n",
              "      <td>23rd January 2023</td>\n",
              "      <td>United Kingdom</td>\n",
              "      <td>A really excellent journey. Lounge not overcr...</td>\n",
              "      <td>✅ Trip Verified |</td>\n",
              "      <td>703</td>\n",
              "    </tr>\n",
              "    <tr>\n",
              "      <th>3</th>\n",
              "      <td>3</td>\n",
              "      <td>0</td>\n",
              "      <td>9</td>\n",
              "      <td>21st January 2023</td>\n",
              "      <td>United Kingdom</td>\n",
              "      <td>This flight was one of the worst I have ever ...</td>\n",
              "      <td>✅ Trip Verified |</td>\n",
              "      <td>1191</td>\n",
              "    </tr>\n",
              "    <tr>\n",
              "      <th>4</th>\n",
              "      <td>4</td>\n",
              "      <td>0</td>\n",
              "      <td>2</td>\n",
              "      <td>19th January 2023</td>\n",
              "      <td>United States</td>\n",
              "      <td>It seems that there is a race to the bottom am...</td>\n",
              "      <td>Not Verified |</td>\n",
              "      <td>575</td>\n",
              "    </tr>\n",
              "    <tr>\n",
              "      <th>...</th>\n",
              "      <td>...</td>\n",
              "      <td>...</td>\n",
              "      <td>...</td>\n",
              "      <td>...</td>\n",
              "      <td>...</td>\n",
              "      <td>...</td>\n",
              "      <td>...</td>\n",
              "      <td>...</td>\n",
              "    </tr>\n",
              "    <tr>\n",
              "      <th>3407</th>\n",
              "      <td>3413</td>\n",
              "      <td>1</td>\n",
              "      <td>6</td>\n",
              "      <td>20th May 2014</td>\n",
              "      <td>Australia</td>\n",
              "      <td>Flew British Airways from Sydney to Venice on ...</td>\n",
              "      <td>None</td>\n",
              "      <td>358</td>\n",
              "    </tr>\n",
              "    <tr>\n",
              "      <th>3408</th>\n",
              "      <td>3414</td>\n",
              "      <td>1</td>\n",
              "      <td>10</td>\n",
              "      <td>19th May 2014</td>\n",
              "      <td>United Kingdom</td>\n",
              "      <td>Recently for our honeymoon we took advantage o...</td>\n",
              "      <td>None</td>\n",
              "      <td>2353</td>\n",
              "    </tr>\n",
              "    <tr>\n",
              "      <th>3409</th>\n",
              "      <td>3415</td>\n",
              "      <td>0</td>\n",
              "      <td>1</td>\n",
              "      <td>18th May 2014</td>\n",
              "      <td>United Kingdom</td>\n",
              "      <td>LGW-Antigua on 29 April and Antigua-LGW on 13 ...</td>\n",
              "      <td>None</td>\n",
              "      <td>2644</td>\n",
              "    </tr>\n",
              "    <tr>\n",
              "      <th>3410</th>\n",
              "      <td>3416</td>\n",
              "      <td>0</td>\n",
              "      <td>4</td>\n",
              "      <td>18th May 2014</td>\n",
              "      <td>United Kingdom</td>\n",
              "      <td>LHR-JTR-LHR. A tale of opposites for BA's new ...</td>\n",
              "      <td>None</td>\n",
              "      <td>615</td>\n",
              "    </tr>\n",
              "    <tr>\n",
              "      <th>3411</th>\n",
              "      <td>3417</td>\n",
              "      <td>0</td>\n",
              "      <td>2</td>\n",
              "      <td>18th May 2014</td>\n",
              "      <td>United Kingdom</td>\n",
              "      <td>Gatwick-Venice return. Two contrasting experie...</td>\n",
              "      <td>None</td>\n",
              "      <td>1001</td>\n",
              "    </tr>\n",
              "  </tbody>\n",
              "</table>\n",
              "<p>3412 rows × 8 columns</p>\n",
              "</div>\n",
              "      <button class=\"colab-df-convert\" onclick=\"convertToInteractive('df-ac2de4a0-6453-4d4e-9251-5a4f79e6656f')\"\n",
              "              title=\"Convert this dataframe to an interactive table.\"\n",
              "              style=\"display:none;\">\n",
              "        \n",
              "  <svg xmlns=\"http://www.w3.org/2000/svg\" height=\"24px\"viewBox=\"0 0 24 24\"\n",
              "       width=\"24px\">\n",
              "    <path d=\"M0 0h24v24H0V0z\" fill=\"none\"/>\n",
              "    <path d=\"M18.56 5.44l.94 2.06.94-2.06 2.06-.94-2.06-.94-.94-2.06-.94 2.06-2.06.94zm-11 1L8.5 8.5l.94-2.06 2.06-.94-2.06-.94L8.5 2.5l-.94 2.06-2.06.94zm10 10l.94 2.06.94-2.06 2.06-.94-2.06-.94-.94-2.06-.94 2.06-2.06.94z\"/><path d=\"M17.41 7.96l-1.37-1.37c-.4-.4-.92-.59-1.43-.59-.52 0-1.04.2-1.43.59L10.3 9.45l-7.72 7.72c-.78.78-.78 2.05 0 2.83L4 21.41c.39.39.9.59 1.41.59.51 0 1.02-.2 1.41-.59l7.78-7.78 2.81-2.81c.8-.78.8-2.07 0-2.86zM5.41 20L4 18.59l7.72-7.72 1.47 1.35L5.41 20z\"/>\n",
              "  </svg>\n",
              "      </button>\n",
              "      \n",
              "  <style>\n",
              "    .colab-df-container {\n",
              "      display:flex;\n",
              "      flex-wrap:wrap;\n",
              "      gap: 12px;\n",
              "    }\n",
              "\n",
              "    .colab-df-convert {\n",
              "      background-color: #E8F0FE;\n",
              "      border: none;\n",
              "      border-radius: 50%;\n",
              "      cursor: pointer;\n",
              "      display: none;\n",
              "      fill: #1967D2;\n",
              "      height: 32px;\n",
              "      padding: 0 0 0 0;\n",
              "      width: 32px;\n",
              "    }\n",
              "\n",
              "    .colab-df-convert:hover {\n",
              "      background-color: #E2EBFA;\n",
              "      box-shadow: 0px 1px 2px rgba(60, 64, 67, 0.3), 0px 1px 3px 1px rgba(60, 64, 67, 0.15);\n",
              "      fill: #174EA6;\n",
              "    }\n",
              "\n",
              "    [theme=dark] .colab-df-convert {\n",
              "      background-color: #3B4455;\n",
              "      fill: #D2E3FC;\n",
              "    }\n",
              "\n",
              "    [theme=dark] .colab-df-convert:hover {\n",
              "      background-color: #434B5C;\n",
              "      box-shadow: 0px 1px 3px 1px rgba(0, 0, 0, 0.15);\n",
              "      filter: drop-shadow(0px 1px 2px rgba(0, 0, 0, 0.3));\n",
              "      fill: #FFFFFF;\n",
              "    }\n",
              "  </style>\n",
              "\n",
              "      <script>\n",
              "        const buttonEl =\n",
              "          document.querySelector('#df-ac2de4a0-6453-4d4e-9251-5a4f79e6656f button.colab-df-convert');\n",
              "        buttonEl.style.display =\n",
              "          google.colab.kernel.accessAllowed ? 'block' : 'none';\n",
              "\n",
              "        async function convertToInteractive(key) {\n",
              "          const element = document.querySelector('#df-ac2de4a0-6453-4d4e-9251-5a4f79e6656f');\n",
              "          const dataTable =\n",
              "            await google.colab.kernel.invokeFunction('convertToInteractive',\n",
              "                                                     [key], {});\n",
              "          if (!dataTable) return;\n",
              "\n",
              "          const docLinkHtml = 'Like what you see? Visit the ' +\n",
              "            '<a target=\"_blank\" href=https://colab.research.google.com/notebooks/data_table.ipynb>data table notebook</a>'\n",
              "            + ' to learn more about interactive tables.';\n",
              "          element.innerHTML = '';\n",
              "          dataTable['output_type'] = 'display_data';\n",
              "          await google.colab.output.renderOutput(dataTable, element);\n",
              "          const docLink = document.createElement('div');\n",
              "          docLink.innerHTML = docLinkHtml;\n",
              "          element.appendChild(docLink);\n",
              "        }\n",
              "      </script>\n",
              "    </div>\n",
              "  </div>\n",
              "  "
            ]
          },
          "metadata": {},
          "execution_count": 5
        }
      ]
    },
    {
      "cell_type": "markdown",
      "source": [
        "# Distribution of ratings score from customers"
      ],
      "metadata": {
        "id": "wtBnjBYAt3nQ"
      }
    },
    {
      "cell_type": "code",
      "source": [
        "unique_values, counts = np.unique(data['Rates'], return_counts=True)"
      ],
      "metadata": {
        "id": "xNPTTFvrt6dh"
      },
      "execution_count": null,
      "outputs": []
    },
    {
      "cell_type": "code",
      "source": [
        "import matplotlib.pyplot as plt\n",
        "import seaborn as sns\n",
        "\n",
        "sns_plot = sns.barplot(x=unique_values, y=counts)\n",
        "\n",
        "# # Add text labels to the bars\n",
        "for i in range(len(unique_values)):\n",
        "    sns_plot.text(x=i, y=counts[i]+1, s=counts[i], ha='center')\n",
        "\n",
        "# Show the plot\n",
        "plt.title('Rating frequency')\n",
        "plt.show()"
      ],
      "metadata": {
        "colab": {
          "base_uri": "https://localhost:8080/",
          "height": 452
        },
        "id": "Ry1ikvLst2TJ",
        "outputId": "7dacc433-101f-4bc9-de40-4d759add25e1"
      },
      "execution_count": null,
      "outputs": [
        {
          "output_type": "display_data",
          "data": {
            "text/plain": [
              "<Figure size 640x480 with 1 Axes>"
            ],
            "image/png": "[encoded data removed]"
          },
          "metadata": {}
        }
      ]
    },
    {
      "cell_type": "markdown",
      "source": [
        "# Preprocessing"
      ],
      "metadata": {
        "id": "Wz0Ustj5rSSq"
      }
    },
    {
      "cell_type": "code",
      "source": [
        "import nltk\n",
        "nltk.download('punkt')\n",
        "from nltk.tokenize import word_tokenize\n",
        "\n",
        "from nltk.corpus import stopwords\n",
        "nltk.download('stopwords')\n",
        "english_stopwords = stopwords.words('english')\n",
        "\n",
        "from nltk.stem.porter import PorterStemmer\n",
        "stemmer = PorterStemmer()"
      ],
      "metadata": {
        "colab": {
          "base_uri": "https://localhost:8080/"
        },
        "id": "yBQOUjXkyBjt",
        "outputId": "dbded19f-7450-4183-9d68-5dc4e6d07553"
      },
      "execution_count": null,
      "outputs": [
        {
          "output_type": "stream",
          "name": "stderr",
          "text": [
            "[nltk_data] Downloading package punkt to /root/nltk_data...\n",
            "[nltk_data]   Unzipping tokenizers/punkt.zip.\n",
            "[nltk_data] Downloading package stopwords to /root/nltk_data...\n",
            "[nltk_data]   Unzipping corpora/stopwords.zip.\n"
          ]
        }
      ]
    },
    {
      "cell_type": "code",
      "source": [
        "def remove_unicode(text):\n",
        "    return text.encode('ascii', 'ignore').decode('utf-8')\n",
        "\n",
        "def remove_stopword(text):\n",
        "    text = word_tokenize(text)\n",
        "    res = [token for token in text if token not in english_stopwords]\n",
        "    return ' '.join(res)\n",
        "\n",
        "def stemming(text):\n",
        "    text = word_tokenize(text)\n",
        "    res = [stemmer.stem(token) for token in text]\n",
        "    return ' '.join(res)\n",
        "\n",
        "def preprocessing_text(text):\n",
        "  res = text\n",
        "  res = remove_unicode(res)\n",
        "  res = remove_stopword(res)\n",
        "  res = stemming(res)\n",
        "  return res"
      ],
      "metadata": {
        "id": "nyWRV8OHyEF_"
      },
      "execution_count": null,
      "outputs": []
    },
    {
      "cell_type": "code",
      "source": [
        "text = 'Is this a played?'\n",
        "\n",
        "preprocessing_text(text), remove_stopword(text), remove_unicode(text), stemming(text)"
      ],
      "metadata": {
        "colab": {
          "base_uri": "https://localhost:8080/"
        },
        "id": "X6lZD3r1je_F",
        "outputId": "94a6691e-4ea6-4239-ac62-d585bf4dcb2e"
      },
      "execution_count": null,
      "outputs": [
        {
          "output_type": "execute_result",
          "data": {
            "text/plain": [
              "('is play ?', 'Is played ?', 'Is this a played?', 'is thi a play ?')"
            ]
          },
          "metadata": {},
          "execution_count": 10
        }
      ]
    },
    {
      "cell_type": "code",
      "source": [
        "def new_comment_length(data, option):\n",
        "  res = []\n",
        "  length = []\n",
        "  for sentence in data:\n",
        "    get = \"\"\n",
        "    if(option == 1) :\n",
        "      get = remove_unicode(sentence)\n",
        "    elif(option == 2):\n",
        "      get = remove_stopword(sentence)\n",
        "    elif(option == 3) :\n",
        "      get = stemming(sentence)\n",
        "    else :\n",
        "      get = preprocessing_text(sentence)\n",
        "    res.append(get)\n",
        "    length.append(len(get))\n",
        "  return res, length"
      ],
      "metadata": {
        "id": "HFPEIFYVyGdS"
      },
      "execution_count": null,
      "outputs": []
    },
    {
      "cell_type": "code",
      "source": [
        "unicode_comment, unicode_length = new_comment_length(data['Original_comment'], 1)\n",
        "stopword_comment, stopword_length = new_comment_length(data['Original_comment'], 2)\n",
        "stemming_comment, stemming_length = new_comment_length(data['Original_comment'], 3)\n",
        "preprocessing_comment, preprocessing_length = new_comment_length(data['Original_comment'], 4)"
      ],
      "metadata": {
        "id": "q2yot9BbygBP"
      },
      "execution_count": null,
      "outputs": []
    },
    {
      "cell_type": "code",
      "source": [
        "data['Unicode_comment'] = unicode_comment\n",
        "data['unicode_length'] = unicode_length\n",
        "\n",
        "data['Stopword_comment'] = stopword_comment\n",
        "data['stopword_length'] = stopword_length\n",
        "\n",
        "data['Stemming_comment'] = stemming_comment\n",
        "data['stemming_length'] = stemming_length\n",
        "\n",
        "data['Preprocessing_comment'] = preprocessing_comment\n",
        "data['preprocessing_length'] = preprocessing_length\n",
        "\n",
        "data = data.drop(['Rates', 'Date', 'Country', 'Verify'], axis = 1)\n",
        "data"
      ],
      "metadata": {
        "colab": {
          "base_uri": "https://localhost:8080/",
          "height": 921
        },
        "id": "pRL9BsBsyhsk",
        "outputId": "9357c7f6-862c-49c3-9e6e-68d05bb09c9d"
      },
      "execution_count": null,
      "outputs": [
        {
          "output_type": "execute_result",
          "data": {
            "text/plain": [
              "       Stt  Label                                   Original_comment  \\\n",
              "0        0      1  Excellent service both on the ground and on bo...   \n",
              "1        1      1   Good lounge at Cape Town. On time departure. ...   \n",
              "2        2      1   A really excellent journey. Lounge not overcr...   \n",
              "3        3      0   This flight was one of the worst I have ever ...   \n",
              "4        4      0  It seems that there is a race to the bottom am...   \n",
              "...    ...    ...                                                ...   \n",
              "3407  3413      1  Flew British Airways from Sydney to Venice on ...   \n",
              "3408  3414      1  Recently for our honeymoon we took advantage o...   \n",
              "3409  3415      0  LGW-Antigua on 29 April and Antigua-LGW on 13 ...   \n",
              "3410  3416      0  LHR-JTR-LHR. A tale of opposites for BA's new ...   \n",
              "3411  3417      0  Gatwick-Venice return. Two contrasting experie...   \n",
              "\n",
              "      original_length                                    Unicode_comment  \\\n",
              "0                 367  Excellent service both on the ground and on bo...   \n",
              "1                 152   Good lounge at Cape Town. On time departure. ...   \n",
              "2                 703   A really excellent journey. Lounge not overcr...   \n",
              "3                1191   This flight was one of the worst I have ever ...   \n",
              "4                 575  It seems that there is a race to the bottom am...   \n",
              "...               ...                                                ...   \n",
              "3407              358  Flew British Airways from Sydney to Venice on ...   \n",
              "3408             2353  Recently for our honeymoon we took advantage o...   \n",
              "3409             2644  LGW-Antigua on 29 April and Antigua-LGW on 13 ...   \n",
              "3410              615  LHR-JTR-LHR. A tale of opposites for BA's new ...   \n",
              "3411             1001  Gatwick-Venice return. Two contrasting experie...   \n",
              "\n",
              "      unicode_length                                   Stopword_comment  \\\n",
              "0                367  Excellent service ground board - first class p...   \n",
              "1                152  Good lounge Cape Town . On time departure . Dr...   \n",
              "2                703  A really excellent journey . Lounge overcrowde...   \n",
              "3               1190  This flight one worst I ever life . I wanted p...   \n",
              "4                575  It seems race bottom amongst airlines . I even...   \n",
              "...              ...                                                ...   \n",
              "3407             358  Flew British Airways Sydney Venice 22nd April ...   \n",
              "3408            2353  Recently honeymoon took advantage BA promo fly...   \n",
              "3409            2643  LGW-Antigua 29 April Antigua-LGW 13 May Boeing...   \n",
              "3410             615  LHR-JTR-LHR . A tale opposites BA 's new route...   \n",
              "3411            1001  Gatwick-Venice return . Two contrasting experi...   \n",
              "\n",
              "      stopword_length                                   Stemming_comment  \\\n",
              "0                 267  excel servic both on the ground and on board -...   \n",
              "1                 146  good loung at cape town . on time departur . d...   \n",
              "2                 588  a realli excel journey . loung not overcrowd i...   \n",
              "3                 808  thi flight wa one of the worst i have ever had...   \n",
              "4                 439  it seem that there is a race to the bottom amo...   \n",
              "...               ...                                                ...   \n",
              "3407              280  flew british airway from sydney to venic on 22...   \n",
              "3408             1601  recent for our honeymoon we took advantag of a...   \n",
              "3409             1893  lgw-antigua on 29 april and antigua-lgw on 13 ...   \n",
              "3410              487  lhr-jtr-lhr . a tale of opposit for ba 's new ...   \n",
              "3411              781  gatwick-venic return . two contrast experi . t...   \n",
              "\n",
              "      stemming_length                              Preprocessing_comment  \\\n",
              "0                 346  excel servic ground board - first class produc...   \n",
              "1                 144  good loung cape town . on time departur . drin...   \n",
              "2                 658  a realli excel journey . loung overcrowd late ...   \n",
              "3                1114  thi flight one worst i ever life . i want pamp...   \n",
              "4                 544  it seem race bottom amongst airlin . i even ch...   \n",
              "...               ...                                                ...   \n",
              "3407              339  flew british airway sydney venic 22nd april re...   \n",
              "3408             2167  recent honeymoon took advantag ba promo fli si...   \n",
              "3409             2492  lgw-antigua 29 april antigua-lgw 13 may boe 77...   \n",
              "3410              577  lhr-jtr-lhr . a tale opposit ba 's new rout sa...   \n",
              "3411              954  gatwick-venic return . two contrast experi . t...   \n",
              "\n",
              "      preprocessing_length  \n",
              "0                      244  \n",
              "1                      134  \n",
              "2                      531  \n",
              "3                      715  \n",
              "4                      390  \n",
              "...                    ...  \n",
              "3407                   256  \n",
              "3408                  1409  \n",
              "3409                  1723  \n",
              "3410                   440  \n",
              "3411                   721  \n",
              "\n",
              "[3412 rows x 12 columns]"
            ],
            "text/html": [
              "\n",
              "  <div id=\"df-3ded2f6b-538e-40ce-a398-4cfeecae362e\">\n",
              "    <div class=\"colab-df-container\">\n",
              "      <div>\n",
              "<style scoped>\n",
              "    .dataframe tbody tr th:only-of-type {\n",
              "        vertical-align: middle;\n",
              "    }\n",
              "\n",
              "    .dataframe tbody tr th {\n",
              "        vertical-align: top;\n",
              "    }\n",
              "\n",
              "    .dataframe thead th {\n",
              "        text-align: right;\n",
              "    }\n",
              "</style>\n",
              "<table border=\"1\" class=\"dataframe\">\n",
              "  <thead>\n",
              "    <tr style=\"text-align: right;\">\n",
              "      <th></th>\n",
              "      <th>Stt</th>\n",
              "      <th>Label</th>\n",
              "      <th>Original_comment</th>\n",
              "      <th>original_length</th>\n",
              "      <th>Unicode_comment</th>\n",
              "      <th>unicode_length</th>\n",
              "      <th>Stopword_comment</th>\n",
              "      <th>stopword_length</th>\n",
              "      <th>Stemming_comment</th>\n",
              "      <th>stemming_length</th>\n",
              "      <th>Preprocessing_comment</th>\n",
              "      <th>preprocessing_length</th>\n",
              "    </tr>\n",
              "  </thead>\n",
              "  <tbody>\n",
              "    <tr>\n",
              "      <th>0</th>\n",
              "      <td>0</td>\n",
              "      <td>1</td>\n",
              "      <td>Excellent service both on the ground and on bo...</td>\n",
              "      <td>367</td>\n",
              "      <td>Excellent service both on the ground and on bo...</td>\n",
              "      <td>367</td>\n",
              "      <td>Excellent service ground board - first class p...</td>\n",
              "      <td>267</td>\n",
              "      <td>excel servic both on the ground and on board -...</td>\n",
              "      <td>346</td>\n",
              "      <td>excel servic ground board - first class produc...</td>\n",
              "      <td>244</td>\n",
              "    </tr>\n",
              "    <tr>\n",
              "      <th>1</th>\n",
              "      <td>1</td>\n",
              "      <td>1</td>\n",
              "      <td>Good lounge at Cape Town. On time departure. ...</td>\n",
              "      <td>152</td>\n",
              "      <td>Good lounge at Cape Town. On time departure. ...</td>\n",
              "      <td>152</td>\n",
              "      <td>Good lounge Cape Town . On time departure . Dr...</td>\n",
              "      <td>146</td>\n",
              "      <td>good loung at cape town . on time departur . d...</td>\n",
              "      <td>144</td>\n",
              "      <td>good loung cape town . on time departur . drin...</td>\n",
              "      <td>134</td>\n",
              "    </tr>\n",
              "    <tr>\n",
              "      <th>2</th>\n",
              "      <td>2</td>\n",
              "      <td>1</td>\n",
              "      <td>A really excellent journey. Lounge not overcr...</td>\n",
              "      <td>703</td>\n",
              "      <td>A really excellent journey. Lounge not overcr...</td>\n",
              "      <td>703</td>\n",
              "      <td>A really excellent journey . Lounge overcrowde...</td>\n",
              "      <td>588</td>\n",
              "      <td>a realli excel journey . loung not overcrowd i...</td>\n",
              "      <td>658</td>\n",
              "      <td>a realli excel journey . loung overcrowd late ...</td>\n",
              "      <td>531</td>\n",
              "    </tr>\n",
              "    <tr>\n",
              "      <th>3</th>\n",
              "      <td>3</td>\n",
              "      <td>0</td>\n",
              "      <td>This flight was one of the worst I have ever ...</td>\n",
              "      <td>1191</td>\n",
              "      <td>This flight was one of the worst I have ever ...</td>\n",
              "      <td>1190</td>\n",
              "      <td>This flight one worst I ever life . I wanted p...</td>\n",
              "      <td>808</td>\n",
              "      <td>thi flight wa one of the worst i have ever had...</td>\n",
              "      <td>1114</td>\n",
              "      <td>thi flight one worst i ever life . i want pamp...</td>\n",
              "      <td>715</td>\n",
              "    </tr>\n",
              "    <tr>\n",
              "      <th>4</th>\n",
              "      <td>4</td>\n",
              "      <td>0</td>\n",
              "      <td>It seems that there is a race to the bottom am...</td>\n",
              "      <td>575</td>\n",
              "      <td>It seems that there is a race to the bottom am...</td>\n",
              "      <td>575</td>\n",
              "      <td>It seems race bottom amongst airlines . I even...</td>\n",
              "      <td>439</td>\n",
              "      <td>it seem that there is a race to the bottom amo...</td>\n",
              "      <td>544</td>\n",
              "      <td>it seem race bottom amongst airlin . i even ch...</td>\n",
              "      <td>390</td>\n",
              "    </tr>\n",
              "    <tr>\n",
              "      <th>...</th>\n",
              "      <td>...</td>\n",
              "      <td>...</td>\n",
              "      <td>...</td>\n",
              "      <td>...</td>\n",
              "      <td>...</td>\n",
              "      <td>...</td>\n",
              "      <td>...</td>\n",
              "      <td>...</td>\n",
              "      <td>...</td>\n",
              "      <td>...</td>\n",
              "      <td>...</td>\n",
              "      <td>...</td>\n",
              "    </tr>\n",
              "    <tr>\n",
              "      <th>3407</th>\n",
              "      <td>3413</td>\n",
              "      <td>1</td>\n",
              "      <td>Flew British Airways from Sydney to Venice on ...</td>\n",
              "      <td>358</td>\n",
              "      <td>Flew British Airways from Sydney to Venice on ...</td>\n",
              "      <td>358</td>\n",
              "      <td>Flew British Airways Sydney Venice 22nd April ...</td>\n",
              "      <td>280</td>\n",
              "      <td>flew british airway from sydney to venic on 22...</td>\n",
              "      <td>339</td>\n",
              "      <td>flew british airway sydney venic 22nd april re...</td>\n",
              "      <td>256</td>\n",
              "    </tr>\n",
              "    <tr>\n",
              "      <th>3408</th>\n",
              "      <td>3414</td>\n",
              "      <td>1</td>\n",
              "      <td>Recently for our honeymoon we took advantage o...</td>\n",
              "      <td>2353</td>\n",
              "      <td>Recently for our honeymoon we took advantage o...</td>\n",
              "      <td>2353</td>\n",
              "      <td>Recently honeymoon took advantage BA promo fly...</td>\n",
              "      <td>1601</td>\n",
              "      <td>recent for our honeymoon we took advantag of a...</td>\n",
              "      <td>2167</td>\n",
              "      <td>recent honeymoon took advantag ba promo fli si...</td>\n",
              "      <td>1409</td>\n",
              "    </tr>\n",
              "    <tr>\n",
              "      <th>3409</th>\n",
              "      <td>3415</td>\n",
              "      <td>0</td>\n",
              "      <td>LGW-Antigua on 29 April and Antigua-LGW on 13 ...</td>\n",
              "      <td>2644</td>\n",
              "      <td>LGW-Antigua on 29 April and Antigua-LGW on 13 ...</td>\n",
              "      <td>2643</td>\n",
              "      <td>LGW-Antigua 29 April Antigua-LGW 13 May Boeing...</td>\n",
              "      <td>1893</td>\n",
              "      <td>lgw-antigua on 29 april and antigua-lgw on 13 ...</td>\n",
              "      <td>2492</td>\n",
              "      <td>lgw-antigua 29 april antigua-lgw 13 may boe 77...</td>\n",
              "      <td>1723</td>\n",
              "    </tr>\n",
              "    <tr>\n",
              "      <th>3410</th>\n",
              "      <td>3416</td>\n",
              "      <td>0</td>\n",
              "      <td>LHR-JTR-LHR. A tale of opposites for BA's new ...</td>\n",
              "      <td>615</td>\n",
              "      <td>LHR-JTR-LHR. A tale of opposites for BA's new ...</td>\n",
              "      <td>615</td>\n",
              "      <td>LHR-JTR-LHR . A tale opposites BA 's new route...</td>\n",
              "      <td>487</td>\n",
              "      <td>lhr-jtr-lhr . a tale of opposit for ba 's new ...</td>\n",
              "      <td>577</td>\n",
              "      <td>lhr-jtr-lhr . a tale opposit ba 's new rout sa...</td>\n",
              "      <td>440</td>\n",
              "    </tr>\n",
              "    <tr>\n",
              "      <th>3411</th>\n",
              "      <td>3417</td>\n",
              "      <td>0</td>\n",
              "      <td>Gatwick-Venice return. Two contrasting experie...</td>\n",
              "      <td>1001</td>\n",
              "      <td>Gatwick-Venice return. Two contrasting experie...</td>\n",
              "      <td>1001</td>\n",
              "      <td>Gatwick-Venice return . Two contrasting experi...</td>\n",
              "      <td>781</td>\n",
              "      <td>gatwick-venic return . two contrast experi . t...</td>\n",
              "      <td>954</td>\n",
              "      <td>gatwick-venic return . two contrast experi . t...</td>\n",
              "      <td>721</td>\n",
              "    </tr>\n",
              "  </tbody>\n",
              "</table>\n",
              "<p>3412 rows × 12 columns</p>\n",
              "</div>\n",
              "      <button class=\"colab-df-convert\" onclick=\"convertToInteractive('df-3ded2f6b-538e-40ce-a398-4cfeecae362e')\"\n",
              "              title=\"Convert this dataframe to an interactive table.\"\n",
              "              style=\"display:none;\">\n",
              "        \n",
              "  <svg xmlns=\"http://www.w3.org/2000/svg\" height=\"24px\"viewBox=\"0 0 24 24\"\n",
              "       width=\"24px\">\n",
              "    <path d=\"M0 0h24v24H0V0z\" fill=\"none\"/>\n",
              "    <path d=\"M18.56 5.44l.94 2.06.94-2.06 2.06-.94-2.06-.94-.94-2.06-.94 2.06-2.06.94zm-11 1L8.5 8.5l.94-2.06 2.06-.94-2.06-.94L8.5 2.5l-.94 2.06-2.06.94zm10 10l.94 2.06.94-2.06 2.06-.94-2.06-.94-.94-2.06-.94 2.06-2.06.94z\"/><path d=\"M17.41 7.96l-1.37-1.37c-.4-.4-.92-.59-1.43-.59-.52 0-1.04.2-1.43.59L10.3 9.45l-7.72 7.72c-.78.78-.78 2.05 0 2.83L4 21.41c.39.39.9.59 1.41.59.51 0 1.02-.2 1.41-.59l7.78-7.78 2.81-2.81c.8-.78.8-2.07 0-2.86zM5.41 20L4 18.59l7.72-7.72 1.47 1.35L5.41 20z\"/>\n",
              "  </svg>\n",
              "      </button>\n",
              "      \n",
              "  <style>\n",
              "    .colab-df-container {\n",
              "      display:flex;\n",
              "      flex-wrap:wrap;\n",
              "      gap: 12px;\n",
              "    }\n",
              "\n",
              "    .colab-df-convert {\n",
              "      background-color: #E8F0FE;\n",
              "      border: none;\n",
              "      border-radius: 50%;\n",
              "      cursor: pointer;\n",
              "      display: none;\n",
              "      fill: #1967D2;\n",
              "      height: 32px;\n",
              "      padding: 0 0 0 0;\n",
              "      width: 32px;\n",
              "    }\n",
              "\n",
              "    .colab-df-convert:hover {\n",
              "      background-color: #E2EBFA;\n",
              "      box-shadow: 0px 1px 2px rgba(60, 64, 67, 0.3), 0px 1px 3px 1px rgba(60, 64, 67, 0.15);\n",
              "      fill: #174EA6;\n",
              "    }\n",
              "\n",
              "    [theme=dark] .colab-df-convert {\n",
              "      background-color: #3B4455;\n",
              "      fill: #D2E3FC;\n",
              "    }\n",
              "\n",
              "    [theme=dark] .colab-df-convert:hover {\n",
              "      background-color: #434B5C;\n",
              "      box-shadow: 0px 1px 3px 1px rgba(0, 0, 0, 0.15);\n",
              "      filter: drop-shadow(0px 1px 2px rgba(0, 0, 0, 0.3));\n",
              "      fill: #FFFFFF;\n",
              "    }\n",
              "  </style>\n",
              "\n",
              "      <script>\n",
              "        const buttonEl =\n",
              "          document.querySelector('#df-3ded2f6b-538e-40ce-a398-4cfeecae362e button.colab-df-convert');\n",
              "        buttonEl.style.display =\n",
              "          google.colab.kernel.accessAllowed ? 'block' : 'none';\n",
              "\n",
              "        async function convertToInteractive(key) {\n",
              "          const element = document.querySelector('#df-3ded2f6b-538e-40ce-a398-4cfeecae362e');\n",
              "          const dataTable =\n",
              "            await google.colab.kernel.invokeFunction('convertToInteractive',\n",
              "                                                     [key], {});\n",
              "          if (!dataTable) return;\n",
              "\n",
              "          const docLinkHtml = 'Like what you see? Visit the ' +\n",
              "            '<a target=\"_blank\" href=https://colab.research.google.com/notebooks/data_table.ipynb>data table notebook</a>'\n",
              "            + ' to learn more about interactive tables.';\n",
              "          element.innerHTML = '';\n",
              "          dataTable['output_type'] = 'display_data';\n",
              "          await google.colab.output.renderOutput(dataTable, element);\n",
              "          const docLink = document.createElement('div');\n",
              "          docLink.innerHTML = docLinkHtml;\n",
              "          element.appendChild(docLink);\n",
              "        }\n",
              "      </script>\n",
              "    </div>\n",
              "  </div>\n",
              "  "
            ]
          },
          "metadata": {},
          "execution_count": 50
        }
      ]
    },
    {
      "cell_type": "code",
      "source": [
        "# So sánh về min và max của các câu trước và sau khi tiền xử lý\n",
        "\n",
        "mi_origin = np.min(data['original_length'].values)\n",
        "ma_origin = np.max(data['original_length'].values)\n",
        "\n",
        "mi_unicode = np.min(data['unicode_length'].values)\n",
        "ma_unicode = np.max(data['unicode_length'].values)\n",
        "\n",
        "mi_stopword = np.min(data['stopword_length'].values)\n",
        "ma_stopword = np.max(data['stopword_length'].values)\n",
        "\n",
        "mi_stemming = np.min(data['stemming_length'].values)\n",
        "ma_stemming = np.max(data['stemming_length'].values)\n",
        "\n",
        "mi_preprocessing = np.min(data['preprocessing_length'].values)\n",
        "ma_preprocessing = np.max(data['preprocessing_length'].values)"
      ],
      "metadata": {
        "id": "Ds7-GoBxzRNk"
      },
      "execution_count": null,
      "outputs": []
    },
    {
      "cell_type": "code",
      "source": [
        "df = pd.DataFrame({'name' : ['origin', 'unicode', 'stopword', 'stemming', 'preprocessing'],\n",
        "                   'min' : [mi_origin, mi_unicode, mi_stopword, mi_stemming, mi_preprocessing],\n",
        "                   'max' : [ma_origin, ma_unicode, ma_stopword, ma_stemming, ma_preprocessing]\n",
        "                   })\n",
        "df"
      ],
      "metadata": {
        "colab": {
          "base_uri": "https://localhost:8080/",
          "height": 206
        },
        "id": "egDzWGhhzvpM",
        "outputId": "2495f208-6063-4a49-a132-912bf0efb1e6"
      },
      "execution_count": null,
      "outputs": [
        {
          "output_type": "execute_result",
          "data": {
            "text/plain": [
              "            name  min   max\n",
              "0         origin   83  3529\n",
              "1        unicode   83  3529\n",
              "2       stopword   66  2680\n",
              "3       stemming   80  3347\n",
              "4  preprocessing   59  2427"
            ],
            "text/html": [
              "\n",
              "  <div id=\"df-1268ed75-a79d-4082-9c89-bb771f4ca72c\">\n",
              "    <div class=\"colab-df-container\">\n",
              "      <div>\n",
              "<style scoped>\n",
              "    .dataframe tbody tr th:only-of-type {\n",
              "        vertical-align: middle;\n",
              "    }\n",
              "\n",
              "    .dataframe tbody tr th {\n",
              "        vertical-align: top;\n",
              "    }\n",
              "\n",
              "    .dataframe thead th {\n",
              "        text-align: right;\n",
              "    }\n",
              "</style>\n",
              "<table border=\"1\" class=\"dataframe\">\n",
              "  <thead>\n",
              "    <tr style=\"text-align: right;\">\n",
              "      <th></th>\n",
              "      <th>name</th>\n",
              "      <th>min</th>\n",
              "      <th>max</th>\n",
              "    </tr>\n",
              "  </thead>\n",
              "  <tbody>\n",
              "    <tr>\n",
              "      <th>0</th>\n",
              "      <td>origin</td>\n",
              "      <td>83</td>\n",
              "      <td>3529</td>\n",
              "    </tr>\n",
              "    <tr>\n",
              "      <th>1</th>\n",
              "      <td>unicode</td>\n",
              "      <td>83</td>\n",
              "      <td>3529</td>\n",
              "    </tr>\n",
              "    <tr>\n",
              "      <th>2</th>\n",
              "      <td>stopword</td>\n",
              "      <td>66</td>\n",
              "      <td>2680</td>\n",
              "    </tr>\n",
              "    <tr>\n",
              "      <th>3</th>\n",
              "      <td>stemming</td>\n",
              "      <td>80</td>\n",
              "      <td>3347</td>\n",
              "    </tr>\n",
              "    <tr>\n",
              "      <th>4</th>\n",
              "      <td>preprocessing</td>\n",
              "      <td>59</td>\n",
              "      <td>2427</td>\n",
              "    </tr>\n",
              "  </tbody>\n",
              "</table>\n",
              "</div>\n",
              "      <button class=\"colab-df-convert\" onclick=\"convertToInteractive('df-1268ed75-a79d-4082-9c89-bb771f4ca72c')\"\n",
              "              title=\"Convert this dataframe to an interactive table.\"\n",
              "              style=\"display:none;\">\n",
              "        \n",
              "  <svg xmlns=\"http://www.w3.org/2000/svg\" height=\"24px\"viewBox=\"0 0 24 24\"\n",
              "       width=\"24px\">\n",
              "    <path d=\"M0 0h24v24H0V0z\" fill=\"none\"/>\n",
              "    <path d=\"M18.56 5.44l.94 2.06.94-2.06 2.06-.94-2.06-.94-.94-2.06-.94 2.06-2.06.94zm-11 1L8.5 8.5l.94-2.06 2.06-.94-2.06-.94L8.5 2.5l-.94 2.06-2.06.94zm10 10l.94 2.06.94-2.06 2.06-.94-2.06-.94-.94-2.06-.94 2.06-2.06.94z\"/><path d=\"M17.41 7.96l-1.37-1.37c-.4-.4-.92-.59-1.43-.59-.52 0-1.04.2-1.43.59L10.3 9.45l-7.72 7.72c-.78.78-.78 2.05 0 2.83L4 21.41c.39.39.9.59 1.41.59.51 0 1.02-.2 1.41-.59l7.78-7.78 2.81-2.81c.8-.78.8-2.07 0-2.86zM5.41 20L4 18.59l7.72-7.72 1.47 1.35L5.41 20z\"/>\n",
              "  </svg>\n",
              "      </button>\n",
              "      \n",
              "  <style>\n",
              "    .colab-df-container {\n",
              "      display:flex;\n",
              "      flex-wrap:wrap;\n",
              "      gap: 12px;\n",
              "    }\n",
              "\n",
              "    .colab-df-convert {\n",
              "      background-color: #E8F0FE;\n",
              "      border: none;\n",
              "      border-radius: 50%;\n",
              "      cursor: pointer;\n",
              "      display: none;\n",
              "      fill: #1967D2;\n",
              "      height: 32px;\n",
              "      padding: 0 0 0 0;\n",
              "      width: 32px;\n",
              "    }\n",
              "\n",
              "    .colab-df-convert:hover {\n",
              "      background-color: #E2EBFA;\n",
              "      box-shadow: 0px 1px 2px rgba(60, 64, 67, 0.3), 0px 1px 3px 1px rgba(60, 64, 67, 0.15);\n",
              "      fill: #174EA6;\n",
              "    }\n",
              "\n",
              "    [theme=dark] .colab-df-convert {\n",
              "      background-color: #3B4455;\n",
              "      fill: #D2E3FC;\n",
              "    }\n",
              "\n",
              "    [theme=dark] .colab-df-convert:hover {\n",
              "      background-color: #434B5C;\n",
              "      box-shadow: 0px 1px 3px 1px rgba(0, 0, 0, 0.15);\n",
              "      filter: drop-shadow(0px 1px 2px rgba(0, 0, 0, 0.3));\n",
              "      fill: #FFFFFF;\n",
              "    }\n",
              "  </style>\n",
              "\n",
              "      <script>\n",
              "        const buttonEl =\n",
              "          document.querySelector('#df-1268ed75-a79d-4082-9c89-bb771f4ca72c button.colab-df-convert');\n",
              "        buttonEl.style.display =\n",
              "          google.colab.kernel.accessAllowed ? 'block' : 'none';\n",
              "\n",
              "        async function convertToInteractive(key) {\n",
              "          const element = document.querySelector('#df-1268ed75-a79d-4082-9c89-bb771f4ca72c');\n",
              "          const dataTable =\n",
              "            await google.colab.kernel.invokeFunction('convertToInteractive',\n",
              "                                                     [key], {});\n",
              "          if (!dataTable) return;\n",
              "\n",
              "          const docLinkHtml = 'Like what you see? Visit the ' +\n",
              "            '<a target=\"_blank\" href=https://colab.research.google.com/notebooks/data_table.ipynb>data table notebook</a>'\n",
              "            + ' to learn more about interactive tables.';\n",
              "          element.innerHTML = '';\n",
              "          dataTable['output_type'] = 'display_data';\n",
              "          await google.colab.output.renderOutput(dataTable, element);\n",
              "          const docLink = document.createElement('div');\n",
              "          docLink.innerHTML = docLinkHtml;\n",
              "          element.appendChild(docLink);\n",
              "        }\n",
              "      </script>\n",
              "    </div>\n",
              "  </div>\n",
              "  "
            ]
          },
          "metadata": {},
          "execution_count": 15
        }
      ]
    },
    {
      "cell_type": "markdown",
      "source": [
        "# Hugging Face transformer\n",
        "# Model : cardiffnlp/twitter-roberta-base-sentiment-latest"
      ],
      "metadata": {
        "id": "3X_jIIaLz3uu"
      }
    },
    {
      "cell_type": "code",
      "source": [
        "!pip install -q transformers\n",
        "from transformers import pipeline\n",
        "senti_pipeline = pipeline(\"sentiment-analysis\", model = 'cardiffnlp/twitter-roberta-base-sentiment-latest')"
      ],
      "metadata": {
        "colab": {
          "base_uri": "https://localhost:8080/",
          "height": 360,
          "referenced_widgets": [
            "eed016308bd14c3cb6a63aaf0fedfbf4",
            "7a5e6c326a5941feb3159642c7aa5d83",
            "8c2b8afa6bd24e45911befd9a7d134ae",
            "ac38e576b9fa469bb601bd3b6a75bc46",
            "c45e61d581b843e6b3fb16c4100002cd",
            "7275408363064a59bddc04384a987447",
            "a1db950d3c0e490da4fd67fdd02bc6b2",
            "9889eb0d760d4f18add68294d0a5212f",
            "e0ef4764a0824d9280f7e3b85fcc64cd",
            "21034a2e26974e6386bc792886ccd253",
            "09cd710d85164951803b0d4e023d4ea4",
            "d069a3e6735f4987b50f57cb74d6d36d",
            "8521077341b84602bffee30bb053e6e1",
            "851c7b1bb8194be089ecbbac1776436a",
            "abb871b7ecb24cbb958d322b2df94547",
            "c047e8ae4178492f9a118a51a09fc651",
            "3fad1f1992ff41aa80f4f02fa0b81401",
            "396cfdddf3d9466c93383d3dfdff52fd",
            "b5e13c00f6644e52b71e9586b965e04f",
            "cf1a1364c5ac4ca8924ea4b0311459c3",
            "dab1b80eb5aa435d97d060f232fdc9d8",
            "1782328179ff4986bf6e9f77ebba65ef",
            "7fac7e1843cc42a29035d5def2fcf9fb",
            "da9658a02a3d4839a958c1a7b1689fc8",
            "b9067efec1ed4e3897d26aaf1f7b5256",
            "a589cd08652d46a39f1ef22a87ead0ef",
            "58ffd3941ff242d3ac4ddb920668f36b",
            "40a376523c7040989de13d8ff3a5a81c",
            "c240f9fb0c14498fa7407384d06903f8",
            "28251ba9b3034d69a0c270ba27d59e2b",
            "c0f22ea8eb0f45f784de478a17cf8e29",
            "6aa17064f08845fb92637ea9329132a3",
            "0dfe5524c55748feb7054b630ab2ae92",
            "31a85e4a1e334003ac3d1556ed537691",
            "c3bbba9d01bd47679adb6c255839b474",
            "a5fa1f5e8c1942fe8f232c0a095456bd",
            "168d9103304c46d787001fb5eb93162e",
            "8d9543f9bfce42ac86f2a646d6224ab1",
            "1a0b5d2e1a0c473ebfb2c2b06299eee0",
            "edd3357281f140eaa6f5c0db3ece6963",
            "7a514c1fa69b482f8dc16d008682c993",
            "482722e0c6454f44b7d1f7a61cc27de6",
            "daac7f4b0c544d65953aa647cde75acb",
            "061b566c68184be6952cb7a54b233098",
            "0b85910e0436426a9908d428f3fbdfac",
            "ae2b5256bc78446d8033bdb628f352a8",
            "ec72982c24254dc7aea3afea80daa117",
            "f85c8c8ead0d4060b59227d269ce869b",
            "90f429feb711433d89f73b65718f9838",
            "55e5fa2bd50746e59614bb278e3fb2be",
            "15b74b81c3da43218082b365f0f759b1",
            "2e363e2235cb442bbb21c39404563aac",
            "a5cda8989b9c46d68125975dfd93a560",
            "e2cc8923abc7419d9d0dc1a3bf56c587",
            "7fb4f99c1ed1430b9abd4c1921234254"
          ]
        },
        "id": "pHbK-8KkzwNQ",
        "outputId": "b48d87be-8ac8-4f0c-fe9f-8be9c2fcca27"
      },
      "execution_count": null,
      "outputs": [
        {
          "output_type": "stream",
          "name": "stdout",
          "text": [
            "\u001b[2K     \u001b[90m━━━━━━━━━━━━━━━━━━━━━━━━━━━━━━━━━━━━━━━━\u001b[0m \u001b[32m7.2/7.2 MB\u001b[0m \u001b[31m53.4 MB/s\u001b[0m eta \u001b[36m0:00:00\u001b[0m\n",
            "\u001b[2K     \u001b[90m━━━━━━━━━━━━━━━━━━━━━━━━━━━━━━━━━━━━━━\u001b[0m \u001b[32m236.8/236.8 kB\u001b[0m \u001b[31m22.5 MB/s\u001b[0m eta \u001b[36m0:00:00\u001b[0m\n",
            "\u001b[2K     \u001b[90m━━━━━━━━━━━━━━━━━━━━━━━━━━━━━━━━━━━━━━━━\u001b[0m \u001b[32m7.8/7.8 MB\u001b[0m \u001b[31m88.6 MB/s\u001b[0m eta \u001b[36m0:00:00\u001b[0m\n",
            "\u001b[2K     \u001b[90m━━━━━━━━━━━━━━━━━━━━━━━━━━━━━━━━━━━━━━━━\u001b[0m \u001b[32m1.3/1.3 MB\u001b[0m \u001b[31m69.3 MB/s\u001b[0m eta \u001b[36m0:00:00\u001b[0m\n",
            "\u001b[?25h"
          ]
        },
        {
          "output_type": "display_data",
          "data": {
            "text/plain": [
              "Downloading (…)lve/main/config.json:   0%|          | 0.00/929 [00:00<?, ?B/s]"
            ],
            "application/vnd.jupyter.widget-view+json": {
              "version_major": 2,
              "version_minor": 0,
              "model_id": "eed016308bd14c3cb6a63aaf0fedfbf4"
            }
          },
          "metadata": {}
        },
        {
          "output_type": "display_data",
          "data": {
            "text/plain": [
              "Downloading pytorch_model.bin:   0%|          | 0.00/501M [00:00<?, ?B/s]"
            ],
            "application/vnd.jupyter.widget-view+json": {
              "version_major": 2,
              "version_minor": 0,
              "model_id": "d069a3e6735f4987b50f57cb74d6d36d"
            }
          },
          "metadata": {}
        },
        {
          "output_type": "stream",
          "name": "stderr",
          "text": [
            "Some weights of the model checkpoint at cardiffnlp/twitter-roberta-base-sentiment-latest were not used when initializing RobertaForSequenceClassification: ['roberta.pooler.dense.bias', 'roberta.pooler.dense.weight']\n",
            "- This IS expected if you are initializing RobertaForSequenceClassification from the checkpoint of a model trained on another task or with another architecture (e.g. initializing a BertForSequenceClassification model from a BertForPreTraining model).\n",
            "- This IS NOT expected if you are initializing RobertaForSequenceClassification from the checkpoint of a model that you expect to be exactly identical (initializing a BertForSequenceClassification model from a BertForSequenceClassification model).\n"
          ]
        },
        {
          "output_type": "display_data",
          "data": {
            "text/plain": [
              "Downloading (…)olve/main/vocab.json:   0%|          | 0.00/899k [00:00<?, ?B/s]"
            ],
            "application/vnd.jupyter.widget-view+json": {
              "version_major": 2,
              "version_minor": 0,
              "model_id": "7fac7e1843cc42a29035d5def2fcf9fb"
            }
          },
          "metadata": {}
        },
        {
          "output_type": "display_data",
          "data": {
            "text/plain": [
              "Downloading (…)olve/main/merges.txt:   0%|          | 0.00/456k [00:00<?, ?B/s]"
            ],
            "application/vnd.jupyter.widget-view+json": {
              "version_major": 2,
              "version_minor": 0,
              "model_id": "31a85e4a1e334003ac3d1556ed537691"
            }
          },
          "metadata": {}
        },
        {
          "output_type": "display_data",
          "data": {
            "text/plain": [
              "Downloading (…)cial_tokens_map.json:   0%|          | 0.00/239 [00:00<?, ?B/s]"
            ],
            "application/vnd.jupyter.widget-view+json": {
              "version_major": 2,
              "version_minor": 0,
              "model_id": "0b85910e0436426a9908d428f3fbdfac"
            }
          },
          "metadata": {}
        },
        {
          "output_type": "stream",
          "name": "stderr",
          "text": [
            "Xformers is not installed correctly. If you want to use memory_efficient_attention to accelerate training use the following command to install Xformers\n",
            "pip install xformers.\n"
          ]
        }
      ]
    },
    {
      "cell_type": "code",
      "source": [
        "def labelling(df):\n",
        "  new_label = []\n",
        "  score = []\n",
        "  for row in df:\n",
        "    get = senti_pipeline(row, truncation=True, max_length=512)[0]\n",
        "    label = 3\n",
        "    if(get['label'] == 'positive'):\n",
        "      label = 1\n",
        "    elif(get['label'] == 'negative'):\n",
        "      label = 0\n",
        "    else:\n",
        "      label = 2\n",
        "    new_label.append(label)\n",
        "    score.append(get['score'])\n",
        "  new_label = pd.Series(new_label)\n",
        "  score = pd.Series(score)\n",
        "  return new_label, score"
      ],
      "metadata": {
        "id": "1JAyE-rs0DPl"
      },
      "execution_count": null,
      "outputs": []
    },
    {
      "cell_type": "markdown",
      "source": [
        "## Phân tích và lấy ra các nhãn sau khi đã chạy mô hình transformer, mất nhiều thời gian cho bước này"
      ],
      "metadata": {
        "id": "27_GUqJr0a0v"
      }
    },
    {
      "cell_type": "markdown",
      "source": [
        "Code này để mô hình gán nhãn"
      ],
      "metadata": {
        "id": "2rd3jnQVnhKJ"
      }
    },
    {
      "cell_type": "code",
      "source": [
        "# Original_label, Original_score = labelling(data['Original_comment'])\n",
        "# Unicode_label, Unicode_score = labelling(data['Unicode_comment'])\n",
        "# Stopword_label, Stopword_score = labelling(data['Stopword_comment'])\n",
        "# Stemming_label, Stemming_score = labelling(data['Stemming_comment'])\n",
        "# Preprocessing_label, Preprocessing_score = labelling(data['Preprocessing_comment'])"
      ],
      "metadata": {
        "id": "gXqEsVVL0DuW"
      },
      "execution_count": null,
      "outputs": []
    },
    {
      "cell_type": "markdown",
      "source": [
        "## Dữ liệu đã được mô hình đã được nhóm lưu lại, import dữ liệu được lưu sẵn để tiết kiệm thời gian"
      ],
      "metadata": {
        "id": "jzsYN5NznrWu"
      }
    },
    {
      "cell_type": "code",
      "source": [
        "data_hf_original = pd.read_csv(\"label_original.csv\")\n",
        "data_hf_unicode = pd.read_csv(\"label_unicode.csv\")\n",
        "data_hf_stopword = pd.read_csv(\"label_stopword.csv\")\n",
        "data_hf_stemming = pd.read_csv(\"label_stemming.csv\")\n",
        "data_hf_preprocessing = pd.read_csv(\"label_preprocessing.csv\")"
      ],
      "metadata": {
        "id": "NiBh9r0soBex"
      },
      "execution_count": null,
      "outputs": []
    },
    {
      "cell_type": "markdown",
      "source": [
        "Đưa các nhãn được máy gán vào dataframe gốc"
      ],
      "metadata": {
        "id": "nDkldHMFRSuv"
      }
    },
    {
      "cell_type": "code",
      "source": [
        "data['Label_original'] = data_hf_original['Original_label']\n",
        "data['Label_unicode'] = data_hf_unicode['Unicode_label']\n",
        "data['Label_stemming'] = data_hf_stemming['Stemming_label']\n",
        "data['Label_stopword'] = data_hf_stopword['Stopword_label']\n",
        "data['Label_preprocessing'] = data_hf_preprocessing['Preprocessing_label']"
      ],
      "metadata": {
        "id": "hj9Mf7lWRZCA"
      },
      "execution_count": null,
      "outputs": []
    },
    {
      "cell_type": "markdown",
      "source": [
        "## Dựa vào việc đánh trọng số của nhãn (data người gán: 0.4, mỗi df máy gán: 0.12) để cho ra bộ dữ liệu cuối cùng"
      ],
      "metadata": {
        "id": "s_-59miN1Yft"
      }
    },
    {
      "cell_type": "code",
      "source": [
        "list_columns = ['Label', 'Label_original', 'Label_unicode', 'Label_stemming', 'Label_stopword', 'Label_preprocessing']\n",
        "final_label = []\n",
        "\n",
        "for i in range(0,len(data)):\n",
        "  total_0 = 0\n",
        "  total_1 = 0\n",
        "  total_2 = 0\n",
        "  for j in list_columns:\n",
        "    if (data[j][i] == 0):\n",
        "      if(j == 'Label'):\n",
        "        total_0 += 0.4\n",
        "      else:\n",
        "        total_0 += 0.12\n",
        "    if (data[j][i] == 1):\n",
        "      if(j == 'Label'):\n",
        "        total_1 += 0.4\n",
        "      else:\n",
        "        total_1 += 0.12\n",
        "    if (data[j][i] == 2):\n",
        "      if(j == 'Label'):\n",
        "        total_2 += 0.4\n",
        "      else:\n",
        "        total_2 += 0.12\n",
        "\n",
        "  final = np.argmax([total_0,total_1,total_2])\n",
        "  final_label.append(final)\n",
        "  total_0 = 0\n",
        "  total_1 = 0\n",
        "  total_2 = 0\n",
        "\n",
        "data['Final_label'] = final_label"
      ],
      "metadata": {
        "id": "z-D2CA_90XD0"
      },
      "execution_count": null,
      "outputs": []
    },
    {
      "cell_type": "code",
      "source": [
        "f1_score(data['Final_label'], data['Label'], average='macro')"
      ],
      "metadata": {
        "colab": {
          "base_uri": "https://localhost:8080/"
        },
        "id": "sTgsXK4sSJdD",
        "outputId": "e66ba9ff-6040-435e-9a16-0fde6c89df33"
      },
      "execution_count": null,
      "outputs": [
        {
          "output_type": "execute_result",
          "data": {
            "text/plain": [
              "0.8846984888498084"
            ]
          },
          "metadata": {},
          "execution_count": 10
        }
      ]
    },
    {
      "cell_type": "markdown",
      "source": [
        "# Basic Models"
      ],
      "metadata": {
        "id": "3ZFiw3Kmprf6"
      }
    },
    {
      "cell_type": "markdown",
      "source": [
        "## Support Vector Classifier (SVC)"
      ],
      "metadata": {
        "id": "BDP1H2Jjsy4W"
      }
    },
    {
      "cell_type": "code",
      "source": [
        "def model_SVC(X, y):\n",
        "\n",
        "  #Chia tập train và test\n",
        "  X_train, X_test, y_train, y_test = train_test_split(X, y, test_size=0.25, random_state=42)\n",
        "\n",
        "  # Áp dụng mô hình TfidfVectorizer để chuyển văn bản thành các vector đặc trưng\n",
        "  tfidf = TfidfVectorizer()\n",
        "  X_train_tfidf = tfidf.fit_transform(X_train)\n",
        "  X_test_tfidf = tfidf.transform(X_test)\n",
        "\n",
        "  # Tạo model SVC default\n",
        "  svm_model = SVC()\n",
        "\n",
        "  # Train mô hình với dữ liệu là vector đặc trưng từ văn bản và nhãn\n",
        "  svm_model.fit(X_train_tfidf, y_train)\n",
        "\n",
        "  # Dự đoán nhãn từ mô hình SVC\n",
        "  y_pred_svm = svm_model.predict(X_test_tfidf)\n",
        "\n",
        "  # Tính accuracy và độ đo F1 score (macro)\n",
        "  accuracy_svm = accuracy_score(y_test, y_pred_svm)\n",
        "  f1_macro_svm = f1_score(y_test, y_pred_svm, average='macro')\n",
        "  f1_weighted_svm = f1_score(y_test, y_pred_svm, average='weighted')\n",
        "  print(\"Accuracy:\", accuracy_svm)\n",
        "  print(\"F1 macro: \", f1_macro_svm)\n",
        "  print(\"F1 weighted: \", f1_weighted_svm)\n",
        "\n",
        "  # Ploting\n",
        "  cm = confusion_matrix(y_test, y_pred_svm)\n",
        "  ax= plt.subplot()\n",
        "  sns.heatmap(cm, annot=True, fmt='g', ax=ax)\n",
        "  ax.set_xlabel('Predicted labels')\n",
        "  ax.set_ylabel('True labels')\n",
        "  ax.set_title('Confusion Matrix')"
      ],
      "metadata": {
        "id": "yiM4musustvz"
      },
      "execution_count": null,
      "outputs": []
    },
    {
      "cell_type": "markdown",
      "source": [
        "Kết quả"
      ],
      "metadata": {
        "id": "vwgO2SRgI4Ge"
      }
    },
    {
      "cell_type": "code",
      "source": [
        "X = data['Original_comment']\n",
        "y = data['Final_label']\n",
        "model_SVC(X, y)"
      ],
      "metadata": {
        "colab": {
          "base_uri": "https://localhost:8080/",
          "height": 526
        },
        "id": "odcoQ0adJANA",
        "outputId": "dd8d78b0-39f7-42ae-e841-37733b4a43c0"
      },
      "execution_count": null,
      "outputs": [
        {
          "output_type": "stream",
          "name": "stdout",
          "text": [
            "Accuracy: 0.7397420867526378\n",
            "F1 macro:  0.5927927617729205\n",
            "F1 weighted:  0.6908667966227496\n"
          ]
        },
        {
          "output_type": "display_data",
          "data": {
            "text/plain": [
              "<Figure size 640x480 with 2 Axes>"
            ],
            "image/png": "[encoded data removed]"
          },
          "metadata": {}
        }
      ]
    },
    {
      "cell_type": "markdown",
      "source": [
        "## XGBoost Classifier (XGBC)"
      ],
      "metadata": {
        "id": "PpOeqpDIuowo"
      }
    },
    {
      "cell_type": "code",
      "source": [
        "def model_XGBC(X, y):\n",
        "\n",
        "  #Chia tập train và test\n",
        "  X_train, X_test, y_train, y_test = train_test_split(X, y, test_size=0.25, random_state=42)\n",
        "\n",
        "  # Áp dụng mô hình TfidfVectorizer để chuyển văn bản thành các vector đặc trưng\n",
        "  tfidf = TfidfVectorizer()\n",
        "  X_train_tfidf = tfidf.fit_transform(X_train)\n",
        "  X_test_tfidf = tfidf.transform(X_test)\n",
        "\n",
        "  # Tạo model XGBC default\n",
        "  xgbc_model = XGBClassifier()\n",
        "\n",
        "  # Train mô hình với dữ liệu là vector đặc trưng từ văn bản và nhãn\n",
        "  xgbc_model.fit(X_train_tfidf, y_train)\n",
        "\n",
        "  # Dự đoán nhãn từ mô hình XGBC\n",
        "  y_pred_xgbc = xgbc_model.predict(X_test_tfidf)\n",
        "\n",
        "  # Tính accuracy và độ đo F1 score (macro)\n",
        "  accuracy_xgbc = accuracy_score(y_test, y_pred_xgbc)\n",
        "  f1_macro_xgbc = f1_score(y_test, y_pred_xgbc, average='macro')\n",
        "  f1_weighted_xgbc = f1_score(y_test, y_pred_xgbc, average='weighted')\n",
        "  print(\"Accuracy: \", accuracy_xgbc)\n",
        "  print(\"F1 macro: \", f1_macro_xgbc)\n",
        "  print(\"F1 weighted: \", f1_weighted_xgbc)\n",
        "\n",
        "  #Ploting\n",
        "  cm = confusion_matrix(y_test, y_pred_xgbc)\n",
        "  ax= plt.subplot()\n",
        "  sns.heatmap(cm, annot=True, fmt='g', ax=ax)\n",
        "  ax.set_xlabel('Predicted labels')\n",
        "  ax.set_ylabel('True labels')\n",
        "  ax.set_title('Confusion Matrix')"
      ],
      "metadata": {
        "id": "zm1CeCZjuutB"
      },
      "execution_count": null,
      "outputs": []
    },
    {
      "cell_type": "markdown",
      "source": [
        "Kết quả"
      ],
      "metadata": {
        "id": "vdg4S0nyJw9h"
      }
    },
    {
      "cell_type": "code",
      "source": [
        "X = data['Original_comment']\n",
        "y = data['Final_label']\n",
        "model_XGBC(X, y)"
      ],
      "metadata": {
        "colab": {
          "base_uri": "https://localhost:8080/",
          "height": 526
        },
        "id": "uwYOz5iOJs-S",
        "outputId": "58b8cd5a-640f-45fc-b84d-f07d15ade0e9"
      },
      "execution_count": null,
      "outputs": [
        {
          "output_type": "stream",
          "name": "stdout",
          "text": [
            "Accuracy:  0.7198124267291911\n",
            "F1 macro:  0.6024977846850504\n",
            "F1 weighted:  0.6893714102175335\n"
          ]
        },
        {
          "output_type": "display_data",
          "data": {
            "text/plain": [
              "<Figure size 640x480 with 2 Axes>"
            ],
            "image/png": "[encoded data removed]"
          },
          "metadata": {}
        }
      ]
    },
    {
      "cell_type": "markdown",
      "source": [
        "# Experiments"
      ],
      "metadata": {
        "id": "VRiHMjXpxiF3"
      }
    },
    {
      "cell_type": "markdown",
      "source": [
        "## Balancing the data distribution"
      ],
      "metadata": {
        "id": "GpVopEl1mN_4"
      }
    },
    {
      "cell_type": "code",
      "source": [
        "import random\n",
        "\n",
        "data_0 = data[data['Final_label'] ==0]\n",
        "data_temp = data[data['Final_label'] !=0]\n",
        "\n",
        "list_num = list(range(0,len(data_0)))\n",
        "list_num_final = []\n",
        "for i in range(0,1000):\n",
        "  random.shuffle(list_num)\n",
        "  list_num_final.append(list_num[0])\n",
        "  list_num = list_num[1:]\n",
        "\n",
        "data_new = data_0.iloc[list_num_final].append(data_temp)\n",
        "data_new['Final_label'].value_counts()"
      ],
      "metadata": {
        "id": "nGwUQBDlmNY3"
      },
      "execution_count": null,
      "outputs": []
    },
    {
      "cell_type": "code",
      "source": [
        "X = data_new['Original_comment']\n",
        "y = data_new['Final_label']\n",
        "model_SVC(X, y)"
      ],
      "metadata": {
        "colab": {
          "base_uri": "https://localhost:8080/",
          "height": 526
        },
        "id": "W0cs4lUcrQL8",
        "outputId": "63934ab4-5a29-4f9e-d935-e04ec03defcc"
      },
      "execution_count": null,
      "outputs": [
        {
          "output_type": "stream",
          "name": "stdout",
          "text": [
            "Accuracy: 0.688622754491018\n",
            "F1 macro:  0.6043100783409732\n",
            "F1 weighted:  0.6392874091249419\n"
          ]
        },
        {
          "output_type": "display_data",
          "data": {
            "text/plain": [
              "<Figure size 640x480 with 2 Axes>"
            ],
            "image/png": "[encoded data removed]"
          },
          "metadata": {}
        }
      ]
    },
    {
      "cell_type": "code",
      "source": [
        "X = data_new['Original_comment']\n",
        "y = data_new['Final_label']\n",
        "model_XGBC(X, y)"
      ],
      "metadata": {
        "colab": {
          "base_uri": "https://localhost:8080/",
          "height": 526
        },
        "id": "g9R4NWWhrTtV",
        "outputId": "b89f449f-918e-428b-96a2-131d40deb254"
      },
      "execution_count": null,
      "outputs": [
        {
          "output_type": "stream",
          "name": "stdout",
          "text": [
            "Accuracy:  0.6646706586826348\n",
            "F1 macro:  0.6145883200664226\n",
            "F1 weighted:  0.6417007770520169\n"
          ]
        },
        {
          "output_type": "display_data",
          "data": {
            "text/plain": [
              "<Figure size 640x480 with 2 Axes>"
            ],
            "image/png": "[encoded data removed]"
          },
          "metadata": {}
        }
      ]
    },
    {
      "cell_type": "markdown",
      "source": [
        "## GridSearchCV"
      ],
      "metadata": {
        "id": "nnC2OWLxv3_c"
      }
    },
    {
      "cell_type": "markdown",
      "source": [
        "### Mô hình tìm tham số từ GridSearchCV"
      ],
      "metadata": {
        "id": "QYnRVOKeC4i7"
      }
    },
    {
      "cell_type": "markdown",
      "source": [
        "Vì trong quá trình tìm tham số sẽ chạy khá lâu nên nhóm để code như sau, và xin lấy các tham số tối ưu nhất đã chạy từ trước đó để áp dụng vào các mô hình"
      ],
      "metadata": {
        "id": "9iwXiqBTCsz6"
      }
    },
    {
      "cell_type": "code",
      "source": [
        "def find_Hyperparameters(X, y):\n",
        "\n",
        "  # Tham số chạy thử cho Decision Tree\n",
        "  params_dt = {\n",
        "      # 'model__criterion': ['gini', 'entropy', 'log_loss'], fail - gini best\n",
        "      'model__max_depth': [4, 5, 6, 7],\n",
        "      'model__min_samples_split': [2, 3, 4],\n",
        "      'model__min_samples_leaf': [1, 2, 3],\n",
        "      # 'model__max_features': ['sqrt', 'log2', None], fail - None best\n",
        "  }\n",
        "\n",
        "  # Tham số chạy thử cho SVC\n",
        "  params_svc = {\n",
        "              'model__C': [0.1, 1, 10],\n",
        "              'model__gamma': ['scale', 'auto'],\n",
        "              'model__kernel': ['linear', 'sigmoid', 'rbf']\n",
        "  }\n",
        "\n",
        "  # Tham số chạy thử cho Gradient Boosting\n",
        "  params_gb = {\n",
        "      # default: losss->log_loss\n",
        "      # 'model__loss': ['log_loss', 'exponential'], fail, log_loss best\n",
        "      'model__learning_rate': [0.05, 0.1, 0.15, 0.2],\n",
        "      'model__criterion': ['friedman_mse', 'squared_error'],\n",
        "      'model__n_estimators': [50, 100, 150],\n",
        "  }\n",
        "\n",
        "  # Tham số chạy thử cho XGBoost\n",
        "  params_xgb = {\n",
        "    'model__learning_rate': [0.05, 0.1, 0.15, 0.2],\n",
        "    'model__n_estimators': [50, 100, 150],\n",
        "    'model__objective': ['reg:squarederror', 'binary:logistic', 'multi:softprob'],\n",
        "  }\n",
        "\n",
        "  params_nn = {\n",
        "    'model__hidden_layer_sizes': [(100,), (50, 50), (100, 50, 25)],\n",
        "    'model__activation': ['relu', 'tanh'],\n",
        "    'model__alpha': [0.0001, 0.001, 0.01],\n",
        "    'model__learning_rate': ['constant', 'adaptive']\n",
        "  }\n",
        "\n",
        "  # Áp dụng mô hình TfidfVectorizer để chuyển văn bản thành các vector đặc trưng\n",
        "  tknzr = TweetTokenizer()\n",
        "  vectorizer = TfidfVectorizer()\n",
        "\n",
        "  # Import các mô hình\n",
        "  dt_model = DecisionTreeClassifier(random_state=42)\n",
        "  svc_model = SVC()\n",
        "  xgb_model = XGBClassifier()\n",
        "\n",
        "  # Gán params và model cần chạy để tìm tham số tối ưu\n",
        "  params_this_time = params_nn\n",
        "  model_this_time = nn_model\n",
        "\n",
        "  # Tạo pipeline\n",
        "  pipeline = Pipeline([\n",
        "      ('vectorizer', vectorizer),\n",
        "      ('model', model_this_time)\n",
        "  ])\n",
        "\n",
        "  # GridSearch tìm tham số tối ưu\n",
        "  grid_search = GridSearchCV(pipeline, params_this_time, refit = True, verbose = 3)\n",
        "  grid_search.fit(X, y)\n",
        "  return grid_search"
      ],
      "metadata": {
        "id": "zia6WmOqv9DT"
      },
      "execution_count": null,
      "outputs": []
    },
    {
      "cell_type": "code",
      "source": [
        "X = data['Original_comment']\n",
        "y = data['Final_label']\n",
        "gridSearch = find_Hyperparameters(X, y)"
      ],
      "metadata": {
        "colab": {
          "base_uri": "https://localhost:8080/"
        },
        "id": "Q2WWrhBeWKbz",
        "outputId": "9eec1809-9296-4b8f-d49b-290b5b9e8790"
      },
      "execution_count": null,
      "outputs": [
        {
          "output_type": "stream",
          "name": "stderr",
          "text": [
            "/usr/local/lib/python3.10/dist-packages/sklearn/neural_network/_multilayer_perceptron.py:693: UserWarning: Training interrupted by user.\n",
            "  warnings.warn(\"Training interrupted by user.\")\n"
          ]
        },
        {
          "output_type": "stream",
          "name": "stdout",
          "text": [
            "[CV 3/5] END model__activation=relu, model__alpha=0.0001, model__hidden_layer_sizes=(100,), model__learning_rate=adaptive;, score=0.669 total time=   2.1s\n"
          ]
        }
      ]
    },
    {
      "cell_type": "code",
      "source": [
        "gridSearch.best_params_"
      ],
      "metadata": {
        "colab": {
          "base_uri": "https://localhost:8080/"
        },
        "id": "3-YQTZ7hXeVJ",
        "outputId": "958a8ad6-9fa8-434d-d828-8bdfe32e3927"
      },
      "execution_count": null,
      "outputs": [
        {
          "output_type": "execute_result",
          "data": {
            "text/plain": [
              "{'model__learning_rate': 0.2,\n",
              " 'model__n_estimators': 150,\n",
              " 'model__objective': 'reg:squarederror'}"
            ]
          },
          "metadata": {},
          "execution_count": 68
        }
      ]
    },
    {
      "cell_type": "markdown",
      "source": [
        "### Các mô hình và kết quả đạt được từ tham số tối ưu tìm được"
      ],
      "metadata": {
        "id": "e5AVkwC0C9zP"
      }
    },
    {
      "cell_type": "markdown",
      "source": [
        "*   Với Decision Tree: max_depth= 6, min_samples_leaf= 2, min_samples_split= 2\n",
        "*   Với SVC: C=10, gamma = 'scale', kernel = 'rbf'\n",
        "*   Với XGBoost: learning_rate=0.2, n_estimators= 150, objective = 'multi:squarederror', num_class = 3"
      ],
      "metadata": {
        "id": "iY5xfvp1LM2i"
      }
    },
    {
      "cell_type": "markdown",
      "source": [
        "#### SVC"
      ],
      "metadata": {
        "id": "UDNN0PpZDCtq"
      }
    },
    {
      "cell_type": "markdown",
      "source": [
        "Mô hình"
      ],
      "metadata": {
        "id": "2uoteel0DJLc"
      }
    },
    {
      "cell_type": "code",
      "source": [
        "def model_SVC(X, y):\n",
        "\n",
        "  #Chia tập train và test\n",
        "  X_train, X_test, y_train, y_test = train_test_split(X, y, test_size=0.25, random_state=42)\n",
        "\n",
        "  # Tạo mô hình TweetTokenizer\n",
        "  tknzr = TweetTokenizer()\n",
        "\n",
        "  # Áp dụng mô hình TfidfVectorizer để chuyển văn bản thành các vector đặc trưng và có sự hỗ trợ tách các token từ TweetTokenizer\n",
        "  tfidf = TfidfVectorizer()\n",
        "  X_train_tfidf = tfidf.fit_transform(X_train)\n",
        "  X_test_tfidf = tfidf.transform(X_test)\n",
        "\n",
        "  # Tạo model SVC với các tham số tối ưu đã được chạy từ GridSearchCV\n",
        "  svm_model = SVC(C=10, gamma = 'scale', kernel = 'rbf')\n",
        "\n",
        "  # Train mô hình với dữ liệu là vector đặc trưng từ văn bản và nhãn\n",
        "  svm_model.fit(X_train_tfidf, y_train)\n",
        "\n",
        "  # Dự đoán nhãn từ mô hình SVC\n",
        "  y_pred_svm = svm_model.predict(X_test_tfidf)\n",
        "\n",
        "  # Tính accuracy và độ đo F1 score (macro)\n",
        "  accuracy_svm = accuracy_score(y_test, y_pred_svm)\n",
        "  f1_macro_svm = f1_score(y_test, y_pred_svm, average='macro')\n",
        "  f1_weighted_svm = f1_score(y_test, y_pred_svm, average='weighted')\n",
        "  print(\"Accuracy:\", accuracy_svm)\n",
        "  print(\"F1 macro: \", f1_macro_svm)\n",
        "  print(\"F1 weighted: \", f1_weighted_svm)\n",
        "\n",
        "  # Ploting\n",
        "  cm = confusion_matrix(y_test, y_pred_svm)\n",
        "  ax= plt.subplot()\n",
        "  sns.heatmap(cm, annot=True, fmt='g', ax=ax)\n",
        "  ax.set_xlabel('Predicted labels')\n",
        "  ax.set_ylabel('True labels')\n",
        "  ax.set_title('Confusion Matrix')"
      ],
      "metadata": {
        "id": "zwYkEbg5DJ8u"
      },
      "execution_count": null,
      "outputs": []
    },
    {
      "cell_type": "markdown",
      "source": [
        "Kết quả"
      ],
      "metadata": {
        "id": "Pr1Ei3H_NYul"
      }
    },
    {
      "cell_type": "code",
      "source": [
        "X = data['Original_comment']\n",
        "y = data['Final_label']\n",
        "model_SVC(X, y)"
      ],
      "metadata": {
        "colab": {
          "base_uri": "https://localhost:8080/",
          "height": 526
        },
        "id": "BnRH6ER8NaR4",
        "outputId": "033405f7-7edd-4523-8a31-772376c1abf3"
      },
      "execution_count": null,
      "outputs": [
        {
          "output_type": "stream",
          "name": "stdout",
          "text": [
            "Accuracy: 0.7409144196951934\n",
            "F1 macro:  0.624684083206571\n",
            "F1 weighted:  0.7095006284809846\n"
          ]
        },
        {
          "output_type": "display_data",
          "data": {
            "text/plain": [
              "<Figure size 640x480 with 2 Axes>"
            ],
            "image/png": "[encoded data removed]"
          },
          "metadata": {}
        }
      ]
    },
    {
      "cell_type": "markdown",
      "source": [
        "#### XGBC"
      ],
      "metadata": {
        "id": "WM9jEFikDFDk"
      }
    },
    {
      "cell_type": "markdown",
      "source": [
        "Mô hình"
      ],
      "metadata": {
        "id": "RHrr7CKdDPQT"
      }
    },
    {
      "cell_type": "code",
      "source": [
        "def model_XGBC(X, y):\n",
        "\n",
        "  #Chia tập train và test\n",
        "  X_train, X_test, y_train, y_test = train_test_split(X, y, test_size=0.25, random_state=42)\n",
        "\n",
        "  # Tạo mô hình TweetTokenizer\n",
        "  tknzr = TweetTokenizer()\n",
        "\n",
        "  # Áp dụng mô hình TfidfVectorizer để chuyển văn bản thành các vector đặc trưng và có sự hỗ trợ tách các token từ TweetTokenizer\n",
        "  tfidf = TfidfVectorizer()\n",
        "  X_train_tfidf = tfidf.fit_transform(X_train)\n",
        "  X_test_tfidf = tfidf.transform(X_test)\n",
        "\n",
        "  # Tạo model XGBC với các tham số tối ưu đã được chạy từ GridSearchCV\n",
        "  xgbc_model = XGBClassifier(learning_rate=0.2, n_estimators= 150, objective = 'multi:squarederror', num_class = 3)\n",
        "\n",
        "  # Train mô hình với dữ liệu là vector đặc trưng từ văn bản và nhãn\n",
        "  xgbc_model.fit(X_train_tfidf, y_train)\n",
        "\n",
        "  # Dự đoán nhãn từ mô hình XGBC\n",
        "  y_pred_xgbc = xgbc_model.predict(X_test_tfidf)\n",
        "\n",
        "  # Tính accuracy và độ đo F1 score (macro)\n",
        "  accuracy_xgbc = accuracy_score(y_test, y_pred_xgbc)\n",
        "  f1_macro_xgbc = f1_score(y_test, y_pred_xgbc, average='macro')\n",
        "  f1_weighted_xgbc = f1_score(y_test, y_pred_xgbc, average='weighted')\n",
        "  print(\"Accuracy: \", accuracy_xgbc)\n",
        "  print(\"F1 macro: \", f1_macro_xgbc)\n",
        "  print(\"F1 weighted: \", f1_weighted_xgbc)\n",
        "\n",
        "  #Ploting\n",
        "  cm = confusion_matrix(y_test, y_pred_xgbc)\n",
        "  ax= plt.subplot()\n",
        "  sns.heatmap(cm, annot=True, fmt='g', ax=ax)\n",
        "  ax.set_xlabel('Predicted labels')\n",
        "  ax.set_ylabel('True labels')\n",
        "  ax.set_title('Confusion Matrix')"
      ],
      "metadata": {
        "id": "mzDu_IHCDRg_"
      },
      "execution_count": null,
      "outputs": []
    },
    {
      "cell_type": "markdown",
      "source": [
        "Kết quả"
      ],
      "metadata": {
        "id": "emOcXEM1DPGU"
      }
    },
    {
      "cell_type": "code",
      "source": [
        "X = data['Original_comment']\n",
        "y = data['Final_label']\n",
        "model_XGBC(X, y)"
      ],
      "metadata": {
        "colab": {
          "base_uri": "https://localhost:8080/",
          "height": 526
        },
        "id": "QQi0yv5hDR9e",
        "outputId": "efa069a6-5010-4b50-b43a-69164c1b8b4f"
      },
      "execution_count": null,
      "outputs": [
        {
          "output_type": "stream",
          "name": "stdout",
          "text": [
            "Accuracy:  0.7280187573270809\n",
            "F1 macro:  0.6124047038764086\n",
            "F1 weighted:  0.698276931109602\n"
          ]
        },
        {
          "output_type": "display_data",
          "data": {
            "text/plain": [
              "<Figure size 640x480 with 2 Axes>"
            ],
            "image/png": "[encoded data removed]"
          },
          "metadata": {}
        }
      ]
    },
    {
      "cell_type": "markdown",
      "source": [
        "# Analyze the results"
      ],
      "metadata": {
        "id": "a1WA60Ydf3LM"
      }
    },
    {
      "cell_type": "markdown",
      "source": [
        "Mô hình SVC là mô hình đưa ra hiệu suất tốt nhất, test mô hình SVC:"
      ],
      "metadata": {
        "id": "SVJVmEmOWXzL"
      }
    },
    {
      "cell_type": "code",
      "source": [
        "def model_SVC(X, y):\n",
        "\n",
        "  # Tạo mô hình TweetTokenizer\n",
        "  tknzr = TweetTokenizer()\n",
        "\n",
        "  # Áp dụng mô hình TfidfVectorizer để chuyển văn bản thành các vector đặc trưng và có sự hỗ trợ tách các token từ TweetTokenizer\n",
        "  tfidf = TfidfVectorizer(tokenizer=tknzr.tokenize, token_pattern=None)\n",
        "  X_tfidf = tfidf.fit_transform(X)\n",
        "\n",
        "  # Tạo model SVC với các tham số tối ưu đã được chạy từ GridSearchCV\n",
        "  svm_model = SVC(C=10, gamma = 'scale', kernel = 'rbf')\n",
        "\n",
        "  # Train mô hình với dữ liệu là vector đặc trưng từ văn bản và nhãn\n",
        "  svm_model.fit(X_tfidf, y)\n",
        "\n",
        "  # Trả về mô hình Tfidf và SVM để phục vụ dự đoán\n",
        "  return tfidf, svm_model"
      ],
      "metadata": {
        "id": "I1coghn9f5Mn"
      },
      "execution_count": null,
      "outputs": []
    },
    {
      "cell_type": "markdown",
      "source": [
        "Train lại mô hình"
      ],
      "metadata": {
        "id": "1k-7m95MXFut"
      }
    },
    {
      "cell_type": "code",
      "source": [
        "X = data['Original_comment']\n",
        "y = data['Final_label']\n",
        "tfidf, model = model_SVC(X, y)"
      ],
      "metadata": {
        "id": "reBoFKvof7iO"
      },
      "execution_count": null,
      "outputs": []
    },
    {
      "cell_type": "markdown",
      "source": [
        "Dự đoán các đoạn text cho sẵn"
      ],
      "metadata": {
        "id": "UsqtX84pXLsX"
      }
    },
    {
      "cell_type": "code",
      "source": [
        "# Đưa ra đoạn text cần dự đoán\n",
        "texts = [\"The service from BA is really good, love it!\", \\\n",
        "        \"Worst experience I ever had, trying to avoid BA next time\",]\n",
        "# Chuyển đoạn text thành vector đặc trưng từ TfidfVectorizer đã được train sẵn\n",
        "texts_tfidf = tfidf.transform(texts)\n",
        "\n",
        "# Dùng model để dự đoán nhãn cho đoạn text\n",
        "predictions = model.predict(texts_tfidf)\n",
        "\n",
        "# In ra kết quả dự đoán\n",
        "print(predictions)"
      ],
      "metadata": {
        "colab": {
          "base_uri": "https://localhost:8080/"
        },
        "id": "de1r8Z0LXK9h",
        "outputId": "21f06cd4-dbcc-474e-9c28-d92cb54c9196"
      },
      "execution_count": null,
      "outputs": [
        {
          "output_type": "stream",
          "name": "stdout",
          "text": [
            "[1 0]\n"
          ]
        }
      ]
    }
  ]
}